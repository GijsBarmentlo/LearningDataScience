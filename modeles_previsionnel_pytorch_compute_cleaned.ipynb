{
  "nbformat": 4,
  "nbformat_minor": 0,
  "metadata": {
    "colab": {
      "provenance": [],
      "collapsed_sections": [
        "aMCxaH_MGt2i"
      ],
      "mount_file_id": "1cgboy8fN0BFd-xpE83o4kBBoXLwOGtfW",
      "authorship_tag": "ABX9TyPhzWIqU4DFlSNLi4sS2Rzg",
      "include_colab_link": true
    },
    "kernelspec": {
      "name": "python3",
      "display_name": "Python 3"
    },
    "language_info": {
      "name": "python"
    }
  },
  "cells": [
    {
      "cell_type": "markdown",
      "metadata": {
        "id": "view-in-github",
        "colab_type": "text"
      },
      "source": [
        "<a href=\"https://colab.research.google.com/github/gijsbarmentlo/Small-DataScience-Projects/blob/master/modeles_previsionnel_pytorch_compute_cleaned.ipynb\" target=\"_parent\"><img src=\"https://colab.research.google.com/assets/colab-badge.svg\" alt=\"Open In Colab\"/></a>"
      ]
    },
    {
      "cell_type": "markdown",
      "source": [
        "## Imports & metadata"
      ],
      "metadata": {
        "id": "LEZ-ZUA0-jYB"
      }
    },
    {
      "cell_type": "markdown",
      "source": [
        "### imports"
      ],
      "metadata": {
        "id": "-VZdQrwSOUKP"
      }
    },
    {
      "cell_type": "code",
      "execution_count": 1,
      "metadata": {
        "colab": {
          "base_uri": "https://localhost:8080/"
        },
        "id": "u8wB7AxZBYMU",
        "outputId": "77a400f8-6268-4b3a-e9a6-1d86ad7fdb8e"
      },
      "outputs": [
        {
          "output_type": "stream",
          "name": "stdout",
          "text": [
            "Collecting mysql-connector-python\n",
            "  Downloading mysql_connector_python-8.3.0-cp310-cp310-manylinux_2_17_x86_64.whl (21.5 MB)\n",
            "\u001b[2K     \u001b[90m━━━━━━━━━━━━━━━━━━━━━━━━━━━━━━━━━━━━━━━━\u001b[0m \u001b[32m21.5/21.5 MB\u001b[0m \u001b[31m44.4 MB/s\u001b[0m eta \u001b[36m0:00:00\u001b[0m\n",
            "\u001b[?25hInstalling collected packages: mysql-connector-python\n",
            "Successfully installed mysql-connector-python-8.3.0\n"
          ]
        }
      ],
      "source": [
        "!pip install mysql-connector-python\n",
        "import mysql.connector as connection\n",
        "\n",
        "import warnings\n",
        "warnings.simplefilter(action='ignore', category=FutureWarning)\n",
        "from tqdm import tqdm\n",
        "import datetime\n",
        "\n",
        "#from google.colab import drive\n",
        "#drive.mount('/content/drive')"
      ]
    },
    {
      "cell_type": "code",
      "source": [
        "import torch.optim as optim\n",
        "from sklearn.model_selection import train_test_split\n",
        "import torch\n",
        "\n",
        "import pandas as pd\n",
        "import numpy as np\n",
        "\n",
        "import matplotlib.pyplot as plt\n",
        "from matplotlib.dates import DateFormatter"
      ],
      "metadata": {
        "id": "O9aURA6kT8S9"
      },
      "execution_count": 2,
      "outputs": []
    },
    {
      "cell_type": "markdown",
      "source": [
        "### Metadata"
      ],
      "metadata": {
        "id": "CJ79vxcoOLEd"
      }
    },
    {
      "cell_type": "code",
      "source": [
        "from google.colab import userdata\n",
        "\n",
        "database_password = userdata.get('ensylog_db_readonly_password')\n",
        "database_user = userdata.get('ensylog_db_readonly_user')\n",
        "database_url = userdata.get('ensylog_db_readonly_host')"
      ],
      "metadata": {
        "id": "l_KodnByLErZ"
      },
      "execution_count": 6,
      "outputs": []
    },
    {
      "cell_type": "code",
      "source": [
        "reference_period_start = '2022-04-01'\n",
        "reference_period_end = '2023-04-01'\n",
        "id_site_global =  15227 #1633   Brico depot Lievin, other id 16064"
      ],
      "metadata": {
        "id": "9v8AZYQIOJuw"
      },
      "execution_count": 7,
      "outputs": []
    },
    {
      "cell_type": "markdown",
      "source": [
        "## Create model\n"
      ],
      "metadata": {
        "id": "vuKpWAdhcUyq"
      }
    },
    {
      "cell_type": "code",
      "source": [
        "class PrevisionalModelReluSimple(torch.nn.Module):\n",
        "\n",
        "    def __init__(self):\n",
        "      super(PrevisionalModelReluSimple, self).__init__()\n",
        "\n",
        "      self.linear1 = torch.nn.Linear(1, 4)\n",
        "      self.relu1 = torch.nn.ReLU()\n",
        "      self.linear2 = torch.nn.Linear(4, 1)\n",
        "\n",
        "      self.linear1.weight.requires_grad = False\n",
        "\n",
        "      # 1. Initialize weights with a ReLU-specific method (e.g., He initialization)\n",
        "      torch.nn.init.kaiming_normal_(self.linear1.weight, mode='fan_in', nonlinearity='relu')\n",
        "      torch.nn.init.kaiming_normal_(self.linear2.weight, mode='fan_in', nonlinearity='relu')\n",
        "\n",
        "      # 2. Initialize biases (you can use zeros or other values)\n",
        "      #self.linear1.bias.data.fill_(-10.0)\n",
        "      #self.linear2.bias.data.fill_(-10.0)\n",
        "\n",
        "    def forward(self, x):\n",
        "      x = self.linear1(x)\n",
        "      x = self.relu1(x)\n",
        "      x = self.linear2(x)\n",
        "      return x\n",
        "\n",
        "    def set_custom_weights_open(self,a,b,c,d,e,f,g,h,i,j,k,l,m,n,o,p):\n",
        "      custom_weights1 = torch.tensor([[1.0], [1.0], [1.0], [1.0]]) #pass along temerature value without alteration\n",
        "      custom_biases1 = torch.tensor([-m, -n, -o, -p]) #different breakpoints of our linear piecewise estimator m,n,o, p\n",
        "      self.linear1.weight.data = custom_weights1\n",
        "      self.linear1.bias.data = custom_biases1\n",
        "\n",
        "      custom_weights2 = torch.tensor([[a, c-a, e-c, -e]]) #defines values of successive slopes, the second value is the second slope minus the first slope as they are applied additively  (alpha, beta-alpha, delta-beta)\n",
        "      custom_biases2 = torch.tensor([a*m+b]) #this is the constant value at negative temperatures\n",
        "      self.linear2.weight.data = custom_weights2\n",
        "      self.linear2.bias.data = custom_biases2\n",
        "\n",
        "    def set_custom_weights_closed(self,a,b,c,d,e,f,g,h,i,j,k,l,m,n,o,p):\n",
        "      custom_weights1 = torch.tensor([[1.0], [1.0], [1.0], [1.0]]) #pass along temerature value without alteration\n",
        "      custom_biases1 = torch.tensor([-m, -n, -o, -p]) #different breakpoints of our linear piecewise estimator m,n,o, p\n",
        "      self.linear1.weight.data = custom_weights1\n",
        "      self.linear1.bias.data = custom_biases1\n",
        "\n",
        "      custom_weights2 = torch.tensor([[g, i-g, k-i, -k]]) #defines values of successive slopes, the second value is the second slope minus the first slope as they are applied additively  (alpha, beta-alpha, delta-beta)\n",
        "      custom_biases2 = torch.tensor([g*m+h]) #this is the constant value at negative temperatures\n",
        "      self.linear2.weight.data = custom_weights2\n",
        "      self.linear2.bias.data = custom_biases2"
      ],
      "metadata": {
        "id": "tLNuN6iLQwoH"
      },
      "execution_count": 8,
      "outputs": []
    },
    {
      "cell_type": "markdown",
      "source": [
        "## Get data from DB"
      ],
      "metadata": {
        "id": "OOosYw0Ao5NS"
      }
    },
    {
      "cell_type": "markdown",
      "source": [
        "#### Get consumption, opening hours, exceptional opening and closing days"
      ],
      "metadata": {
        "id": "P8kk_Go9o80N"
      }
    },
    {
      "cell_type": "code",
      "execution_count": 9,
      "metadata": {
        "id": "t-AKc6yzxhm-"
      },
      "outputs": [],
      "source": [
        "## Get bdd_nom which we need to build the consumption data query\n",
        "def get_bdd_nom(id_site_global):\n",
        "  sql_query = f\"SELECT bdd_nom from `global`.bdd_client WHERE k IN (SELECT k FROM `global`.client WHERE id_client IN (SELECT id_client FROM `global`.sites WHERE id_site = {id_site_global}))\"\n",
        "  # Get bdd nom\n",
        "  bdd_nom_df = pd.DataFrame()\n",
        "  try:\n",
        "      mydb = connection.connect(host=database_url,user=database_user, passwd=database_password,use_pure=True)\n",
        "      bdd_nom_df = pd.read_sql(sql_query,mydb)\n",
        "      mydb.close() #close the connection\n",
        "  except Exception as e:\n",
        "      mydb.close()\n",
        "      print(str(e))\n",
        "\n",
        "  bdd_nom = bdd_nom_df['bdd_nom'].iloc[0]\n",
        "  return bdd_nom"
      ]
    },
    {
      "cell_type": "code",
      "source": [
        "def get_dfs_from_db(id_site_global, reference_period_start, reference_period_end):\n",
        "  sql_query_horaires = f\"SELECT day,\touverture,fermeture FROM global.previsionnels_horaires where id_site = {id_site_global}\" #excluding pause time for now debut_pause,\tfin_pause,\n",
        "  sql_query_fermetures_exceptionnelles = f\"SELECT date FROM global.previsionnels_horaires_fermetures_exceptionnelles where id_site = {id_site_global}\"\n",
        "  sql_query_horaires_ouvertures_exceptionnelles = f\"SELECT date, ouverture, fermeture FROM global.previsionnels_horaires_ouvertures_exceptionnelles where id_site = {id_site_global}\"\n",
        "  sql_query_temperature = f\"SELECT datetime, temperature FROM global.donnees_meteo_darksky where id_station = (select id_station_darksky from global.sites where id_site = {id_site_global}) and datetime > '{reference_period_start}' and datetime < '{reference_period_end}'\"\n",
        "  get_consumption_query = f\"SELECT `datetime`, general as consumption from `{get_bdd_nom(id_site_global)}`.donnees_conso WHERE id_site IN (SELECT id_ensylog FROM `global`.sites WHERE id_site = {id_site_global}) AND datetime > '{reference_period_start}' and datetime < '{reference_period_end}'\"\n",
        "\n",
        "  try:\n",
        "      mydb = connection.connect(host=database_url,user=database_user, passwd=database_password,use_pure=True)\n",
        "      df_horaires_ouverture = pd.read_sql(sql_query_horaires,mydb)\n",
        "      df_fermetures_exceptionnelles = pd.read_sql(sql_query_fermetures_exceptionnelles,mydb)\n",
        "      df_horaires_ouvertures_exceptionnelles = pd.read_sql(sql_query_horaires_ouvertures_exceptionnelles,mydb)\n",
        "      df_temperature = pd.read_sql(sql_query_temperature,mydb)\n",
        "      df_consumption = pd.read_sql(get_consumption_query,mydb)\n",
        "      mydb.close() #close the connection\n",
        "\n",
        "  except Exception as e:\n",
        "      mydb.close()\n",
        "      print(str(e))\n",
        "\n",
        "  return df_horaires_ouverture, df_fermetures_exceptionnelles, df_horaires_ouvertures_exceptionnelles, df_temperature, df_consumption"
      ],
      "metadata": {
        "id": "GI8M2r13R02f"
      },
      "execution_count": 10,
      "outputs": []
    },
    {
      "cell_type": "markdown",
      "source": [
        "#### Get model parameters"
      ],
      "metadata": {
        "id": "2OBKUp0npuMv"
      }
    },
    {
      "cell_type": "code",
      "source": [
        "def get_model_parameters_df(id_site_global):\n",
        "  sql_query = f\"SELECT a,b,c,d,e,f,g,h,i,j,k,l,m,n,o,p FROM global.previsionnels_modeles_variables where id_modele = (select id_modele from global.previsionnels_modeles where id_site = {id_site_global} and id_categorie = 1)\"\n",
        "\n",
        "  try:\n",
        "      mydb = connection.connect(host=database_url,user=database_user, passwd=database_password,use_pure=True)\n",
        "      query = sql_query\n",
        "      df_model_params = pd.read_sql(sql_query,mydb)\n",
        "      mydb.close() #close the connection\n",
        "  except Exception as e:\n",
        "      mydb.close()\n",
        "      print(str(e))\n",
        "\n",
        "  return df_model_params"
      ],
      "metadata": {
        "id": "DLIwyTZqpwHd"
      },
      "execution_count": 11,
      "outputs": []
    },
    {
      "cell_type": "markdown",
      "source": [
        "## Process data from DB to create training dataframe"
      ],
      "metadata": {
        "id": "LLfBJYmnsMzx"
      }
    },
    {
      "cell_type": "markdown",
      "source": [
        "### Create is_open feature"
      ],
      "metadata": {
        "id": "55KLitNRZsDy"
      }
    },
    {
      "cell_type": "markdown",
      "source": [
        "The order of application is standard opening hours, closing days then exceptional openaning hours (ie. if it is specified that the store is closed on the 01/01/2023 and exceptionally open the 01/01/2023 from 1PM to 6PM then the opening hours override the day of closure)"
      ],
      "metadata": {
        "id": "0MV-aTplsYd1"
      }
    },
    {
      "cell_type": "code",
      "source": [
        "def create_is_open_feature(df_input, df_horaires_ouverture, df_fermetures_exceptionnelles, df_horaires_ouvertures_exceptionnelles):\n",
        "\n",
        "  def is_usual_open_np(weekday, hour, minute, second): #no handlong of lunchbreak for now\n",
        "    dt_timedelta = datetime.timedelta(hours = hour, minutes = minute, seconds = second)\n",
        "    #dt_day = row.weekday + 1 # monday is 0 with +1 monday is 1 to match formatting ofopening_hours_df\n",
        "\n",
        "    has_opened = dt_timedelta >= opening_hours_np[weekday][1]\n",
        "    has_not_closed = dt_timedelta < opening_hours_np[weekday][2]\n",
        "\n",
        "    is_open = has_opened and has_not_closed\n",
        "\n",
        "    return is_open\n",
        "\n",
        "  def is_exceptional_open(date, hour, minute, second):\n",
        "    dt_timedelta = datetime.timedelta(hours = hour, minutes = minute, seconds = second)\n",
        "    #dt_day = row.weekday + 1 # monday is 0 with +1 monday is 1 to match formatting ofopening_hours_df\n",
        "\n",
        "    #has_opened = dt_timedelta > exceptional_opening_df[exceptional_opening_df['date']==date]['ouverture'].iloc[0]\n",
        "    has_opened = dt_timedelta >= df_horaires_ouvertures_exceptionnelles.loc[df_horaires_ouvertures_exceptionnelles['date']==date, 'ouverture'].iloc[0]\n",
        "    #has_not_closed = dt_timedelta < exceptional_opening_df[exceptional_opening_df['date']==date]['fermeture'].iloc[0]\n",
        "    has_not_closed = dt_timedelta < df_horaires_ouvertures_exceptionnelles.loc[df_horaires_ouvertures_exceptionnelles['date']==date,'fermeture'].iloc[0]\n",
        "\n",
        "    is_open = has_opened and has_not_closed\n",
        "\n",
        "    return is_open\n",
        "\n",
        "  # Create intermediate values for calculating is_open feature with series.dt accessor because it is much faster than elementwise operations on dataframe\n",
        "  df_input['date'] = df_input['datetime'].dt.date\n",
        "  df_input['hour'] = df_input['datetime'].dt.hour\n",
        "  df_input['minute'] = df_input['datetime'].dt.minute\n",
        "  df_input['second'] = df_input['datetime'].dt.second\n",
        "  df_input['weekday'] = df_input['datetime'].dt.weekday\n",
        "\n",
        "  # The order of application is important (first usual opening hours for the store, then exceptional closures, then exceptional opening hours) so that they override each other correctly\n",
        "  #(eg. a store that is exceptinonaly close the 01/01/2023 and exceptionally open the 01/01/2023 from 1PM to 5PM will be is_open between 1 and 5PM because it is applied later)\n",
        "  opening_hours_np = df_horaires_ouverture.sort_values(by=['day']).to_numpy()\n",
        "\n",
        "  ## computing opening bool based on usual opening hours\n",
        "  df_input['is_open'] = df_input.apply(lambda x : is_usual_open_np(x.weekday,x.hour,x.minute,x.second), axis=1)\n",
        "\n",
        "  ## changing bool to closed on exceptional closure days\n",
        "  df_input.loc[df_input['date'].isin(df_fermetures_exceptionnelles['date']),'is_open'] = False\n",
        "\n",
        "  ## changing bool based on exceptional opening hours\n",
        "  ##It is important to apply is_exceptional_open only when the location is closed (filtered by & (consumption_df['is_open_np']==False))\n",
        "  ##because if we only filter on date, the normal opening hours will be overridden to is_open = false\n",
        "  df_input.loc[df_input['date'].isin(df_horaires_ouvertures_exceptionnelles['date']) & (df_input['is_open']==False),'is_open'] = df_input.loc[df_input['date'].isin(df_horaires_ouvertures_exceptionnelles['date']) & (df_input['is_open']==False),:].apply(lambda x : is_exceptional_open(x.date,x.hour,x.minute,x.second), axis = 1)\n",
        "\n",
        "  # drop needless columns\n",
        "\n",
        "  df_input.drop(['date', 'hour', 'minute', 'second', 'weekday'], axis = 1, inplace = True)\n",
        "\n",
        "  return df_input"
      ],
      "metadata": {
        "id": "Ak0d_xF5EHlN"
      },
      "execution_count": 12,
      "outputs": []
    },
    {
      "cell_type": "markdown",
      "source": [
        "### Resample dataframe to hourly"
      ],
      "metadata": {
        "id": "K8yp_TJwZxXs"
      }
    },
    {
      "cell_type": "code",
      "execution_count": 13,
      "metadata": {
        "id": "4H7rH-hOxhm-"
      },
      "outputs": [],
      "source": [
        "def resample_df_hourly(input_df):\n",
        "  # Assuming 'timestamp' is the name of your timestamp column\n",
        "  input_df['datetime'] = pd.to_datetime(input_df['datetime'])\n",
        "\n",
        "  # Set the timestamp column as the DataFrame's index\n",
        "  temp_df = input_df.set_index('datetime')\n",
        "\n",
        "  # Resample the data to hourly intervals and apply the sum aggregation\n",
        "  hourly_df = temp_df['consumption'].resample('H').sum()\n",
        "\n",
        "  # Reset the index to have the timestamp as a regular column\n",
        "  hourly_df = hourly_df.reset_index()\n",
        "\n",
        "  hourly_df = hourly_df[hourly_df['consumption']!=0]\n",
        "\n",
        "  return hourly_df"
      ]
    },
    {
      "cell_type": "markdown",
      "source": [
        "## Create training df using all functions above"
      ],
      "metadata": {
        "id": "9Q7kpNLgb4s1"
      }
    },
    {
      "cell_type": "code",
      "source": [
        "def create_train_df(id_site_global, reference_period_start, reference_period_end):\n",
        "  df_horaires_ouverture, df_fermetures_exceptionnelles, df_horaires_ouvertures_exceptionnelles, df_temperature, df_consumption = get_dfs_from_db(id_site_global, reference_period_start, reference_period_end)\n",
        "\n",
        "  ## adding is_open feature based on opening hours and days\n",
        "  df_temperature = create_is_open_feature(df_temperature, df_horaires_ouverture, df_fermetures_exceptionnelles, df_horaires_ouvertures_exceptionnelles)\n",
        "\n",
        "  #consumption data is in 10 minute format, agregating consumption per hour\n",
        "  df_consumption_hourly = resample_df_hourly(df_consumption)\n",
        "\n",
        "  # merging temp and is_open (input) and consumption (ground_truth) data\n",
        "  df_train = pd.merge(df_temperature, df_consumption_hourly, on='datetime', how = 'inner')\n",
        "\n",
        "  return df_train"
      ],
      "metadata": {
        "id": "A2fUUYe3O_11"
      },
      "execution_count": 14,
      "outputs": []
    },
    {
      "cell_type": "code",
      "source": [
        "df_train = create_train_df(id_site_global, reference_period_start, reference_period_end)\n",
        "df_train.head()"
      ],
      "metadata": {
        "id": "seH2Ksy9AXPV",
        "colab": {
          "base_uri": "https://localhost:8080/",
          "height": 434
        },
        "outputId": "216da3f0-6df4-454a-ebb0-6fd4c7ff1adb"
      },
      "execution_count": 15,
      "outputs": [
        {
          "output_type": "stream",
          "name": "stderr",
          "text": [
            "<ipython-input-9-346bd55f1cc4>:8: UserWarning: pandas only supports SQLAlchemy connectable (engine/connection) or database string URI or sqlite3 DBAPI2 connection. Other DBAPI2 objects are not tested. Please consider using SQLAlchemy.\n",
            "  bdd_nom_df = pd.read_sql(sql_query,mydb)\n",
            "<ipython-input-10-f18e71d450f8>:10: UserWarning: pandas only supports SQLAlchemy connectable (engine/connection) or database string URI or sqlite3 DBAPI2 connection. Other DBAPI2 objects are not tested. Please consider using SQLAlchemy.\n",
            "  df_horaires_ouverture = pd.read_sql(sql_query_horaires,mydb)\n",
            "<ipython-input-10-f18e71d450f8>:11: UserWarning: pandas only supports SQLAlchemy connectable (engine/connection) or database string URI or sqlite3 DBAPI2 connection. Other DBAPI2 objects are not tested. Please consider using SQLAlchemy.\n",
            "  df_fermetures_exceptionnelles = pd.read_sql(sql_query_fermetures_exceptionnelles,mydb)\n",
            "<ipython-input-10-f18e71d450f8>:12: UserWarning: pandas only supports SQLAlchemy connectable (engine/connection) or database string URI or sqlite3 DBAPI2 connection. Other DBAPI2 objects are not tested. Please consider using SQLAlchemy.\n",
            "  df_horaires_ouvertures_exceptionnelles = pd.read_sql(sql_query_horaires_ouvertures_exceptionnelles,mydb)\n",
            "<ipython-input-10-f18e71d450f8>:13: UserWarning: pandas only supports SQLAlchemy connectable (engine/connection) or database string URI or sqlite3 DBAPI2 connection. Other DBAPI2 objects are not tested. Please consider using SQLAlchemy.\n",
            "  df_temperature = pd.read_sql(sql_query_temperature,mydb)\n",
            "<ipython-input-10-f18e71d450f8>:14: UserWarning: pandas only supports SQLAlchemy connectable (engine/connection) or database string URI or sqlite3 DBAPI2 connection. Other DBAPI2 objects are not tested. Please consider using SQLAlchemy.\n",
            "  df_consumption = pd.read_sql(get_consumption_query,mydb)\n"
          ]
        },
        {
          "output_type": "execute_result",
          "data": {
            "text/plain": [
              "             datetime  temperature  is_open  consumption\n",
              "0 2022-04-11 00:00:00         8.29    False        1.666\n",
              "1 2022-04-11 01:00:00         7.80    False        1.666\n",
              "2 2022-04-11 02:00:00         7.09    False        1.666\n",
              "3 2022-04-11 03:00:00         6.45    False        1.666\n",
              "4 2022-04-11 04:00:00         5.97    False        1.666"
            ],
            "text/html": [
              "\n",
              "  <div id=\"df-5eb3c16b-3987-4295-96bf-693bf8e41e8c\" class=\"colab-df-container\">\n",
              "    <div>\n",
              "<style scoped>\n",
              "    .dataframe tbody tr th:only-of-type {\n",
              "        vertical-align: middle;\n",
              "    }\n",
              "\n",
              "    .dataframe tbody tr th {\n",
              "        vertical-align: top;\n",
              "    }\n",
              "\n",
              "    .dataframe thead th {\n",
              "        text-align: right;\n",
              "    }\n",
              "</style>\n",
              "<table border=\"1\" class=\"dataframe\">\n",
              "  <thead>\n",
              "    <tr style=\"text-align: right;\">\n",
              "      <th></th>\n",
              "      <th>datetime</th>\n",
              "      <th>temperature</th>\n",
              "      <th>is_open</th>\n",
              "      <th>consumption</th>\n",
              "    </tr>\n",
              "  </thead>\n",
              "  <tbody>\n",
              "    <tr>\n",
              "      <th>0</th>\n",
              "      <td>2022-04-11 00:00:00</td>\n",
              "      <td>8.29</td>\n",
              "      <td>False</td>\n",
              "      <td>1.666</td>\n",
              "    </tr>\n",
              "    <tr>\n",
              "      <th>1</th>\n",
              "      <td>2022-04-11 01:00:00</td>\n",
              "      <td>7.80</td>\n",
              "      <td>False</td>\n",
              "      <td>1.666</td>\n",
              "    </tr>\n",
              "    <tr>\n",
              "      <th>2</th>\n",
              "      <td>2022-04-11 02:00:00</td>\n",
              "      <td>7.09</td>\n",
              "      <td>False</td>\n",
              "      <td>1.666</td>\n",
              "    </tr>\n",
              "    <tr>\n",
              "      <th>3</th>\n",
              "      <td>2022-04-11 03:00:00</td>\n",
              "      <td>6.45</td>\n",
              "      <td>False</td>\n",
              "      <td>1.666</td>\n",
              "    </tr>\n",
              "    <tr>\n",
              "      <th>4</th>\n",
              "      <td>2022-04-11 04:00:00</td>\n",
              "      <td>5.97</td>\n",
              "      <td>False</td>\n",
              "      <td>1.666</td>\n",
              "    </tr>\n",
              "  </tbody>\n",
              "</table>\n",
              "</div>\n",
              "    <div class=\"colab-df-buttons\">\n",
              "\n",
              "  <div class=\"colab-df-container\">\n",
              "    <button class=\"colab-df-convert\" onclick=\"convertToInteractive('df-5eb3c16b-3987-4295-96bf-693bf8e41e8c')\"\n",
              "            title=\"Convert this dataframe to an interactive table.\"\n",
              "            style=\"display:none;\">\n",
              "\n",
              "  <svg xmlns=\"http://www.w3.org/2000/svg\" height=\"24px\" viewBox=\"0 -960 960 960\">\n",
              "    <path d=\"M120-120v-720h720v720H120Zm60-500h600v-160H180v160Zm220 220h160v-160H400v160Zm0 220h160v-160H400v160ZM180-400h160v-160H180v160Zm440 0h160v-160H620v160ZM180-180h160v-160H180v160Zm440 0h160v-160H620v160Z\"/>\n",
              "  </svg>\n",
              "    </button>\n",
              "\n",
              "  <style>\n",
              "    .colab-df-container {\n",
              "      display:flex;\n",
              "      gap: 12px;\n",
              "    }\n",
              "\n",
              "    .colab-df-convert {\n",
              "      background-color: #E8F0FE;\n",
              "      border: none;\n",
              "      border-radius: 50%;\n",
              "      cursor: pointer;\n",
              "      display: none;\n",
              "      fill: #1967D2;\n",
              "      height: 32px;\n",
              "      padding: 0 0 0 0;\n",
              "      width: 32px;\n",
              "    }\n",
              "\n",
              "    .colab-df-convert:hover {\n",
              "      background-color: #E2EBFA;\n",
              "      box-shadow: 0px 1px 2px rgba(60, 64, 67, 0.3), 0px 1px 3px 1px rgba(60, 64, 67, 0.15);\n",
              "      fill: #174EA6;\n",
              "    }\n",
              "\n",
              "    .colab-df-buttons div {\n",
              "      margin-bottom: 4px;\n",
              "    }\n",
              "\n",
              "    [theme=dark] .colab-df-convert {\n",
              "      background-color: #3B4455;\n",
              "      fill: #D2E3FC;\n",
              "    }\n",
              "\n",
              "    [theme=dark] .colab-df-convert:hover {\n",
              "      background-color: #434B5C;\n",
              "      box-shadow: 0px 1px 3px 1px rgba(0, 0, 0, 0.15);\n",
              "      filter: drop-shadow(0px 1px 2px rgba(0, 0, 0, 0.3));\n",
              "      fill: #FFFFFF;\n",
              "    }\n",
              "  </style>\n",
              "\n",
              "    <script>\n",
              "      const buttonEl =\n",
              "        document.querySelector('#df-5eb3c16b-3987-4295-96bf-693bf8e41e8c button.colab-df-convert');\n",
              "      buttonEl.style.display =\n",
              "        google.colab.kernel.accessAllowed ? 'block' : 'none';\n",
              "\n",
              "      async function convertToInteractive(key) {\n",
              "        const element = document.querySelector('#df-5eb3c16b-3987-4295-96bf-693bf8e41e8c');\n",
              "        const dataTable =\n",
              "          await google.colab.kernel.invokeFunction('convertToInteractive',\n",
              "                                                    [key], {});\n",
              "        if (!dataTable) return;\n",
              "\n",
              "        const docLinkHtml = 'Like what you see? Visit the ' +\n",
              "          '<a target=\"_blank\" href=https://colab.research.google.com/notebooks/data_table.ipynb>data table notebook</a>'\n",
              "          + ' to learn more about interactive tables.';\n",
              "        element.innerHTML = '';\n",
              "        dataTable['output_type'] = 'display_data';\n",
              "        await google.colab.output.renderOutput(dataTable, element);\n",
              "        const docLink = document.createElement('div');\n",
              "        docLink.innerHTML = docLinkHtml;\n",
              "        element.appendChild(docLink);\n",
              "      }\n",
              "    </script>\n",
              "  </div>\n",
              "\n",
              "\n",
              "<div id=\"df-9d668dc2-142e-4a19-bcbc-9ed7baafa0f0\">\n",
              "  <button class=\"colab-df-quickchart\" onclick=\"quickchart('df-9d668dc2-142e-4a19-bcbc-9ed7baafa0f0')\"\n",
              "            title=\"Suggest charts\"\n",
              "            style=\"display:none;\">\n",
              "\n",
              "<svg xmlns=\"http://www.w3.org/2000/svg\" height=\"24px\"viewBox=\"0 0 24 24\"\n",
              "     width=\"24px\">\n",
              "    <g>\n",
              "        <path d=\"M19 3H5c-1.1 0-2 .9-2 2v14c0 1.1.9 2 2 2h14c1.1 0 2-.9 2-2V5c0-1.1-.9-2-2-2zM9 17H7v-7h2v7zm4 0h-2V7h2v10zm4 0h-2v-4h2v4z\"/>\n",
              "    </g>\n",
              "</svg>\n",
              "  </button>\n",
              "\n",
              "<style>\n",
              "  .colab-df-quickchart {\n",
              "      --bg-color: #E8F0FE;\n",
              "      --fill-color: #1967D2;\n",
              "      --hover-bg-color: #E2EBFA;\n",
              "      --hover-fill-color: #174EA6;\n",
              "      --disabled-fill-color: #AAA;\n",
              "      --disabled-bg-color: #DDD;\n",
              "  }\n",
              "\n",
              "  [theme=dark] .colab-df-quickchart {\n",
              "      --bg-color: #3B4455;\n",
              "      --fill-color: #D2E3FC;\n",
              "      --hover-bg-color: #434B5C;\n",
              "      --hover-fill-color: #FFFFFF;\n",
              "      --disabled-bg-color: #3B4455;\n",
              "      --disabled-fill-color: #666;\n",
              "  }\n",
              "\n",
              "  .colab-df-quickchart {\n",
              "    background-color: var(--bg-color);\n",
              "    border: none;\n",
              "    border-radius: 50%;\n",
              "    cursor: pointer;\n",
              "    display: none;\n",
              "    fill: var(--fill-color);\n",
              "    height: 32px;\n",
              "    padding: 0;\n",
              "    width: 32px;\n",
              "  }\n",
              "\n",
              "  .colab-df-quickchart:hover {\n",
              "    background-color: var(--hover-bg-color);\n",
              "    box-shadow: 0 1px 2px rgba(60, 64, 67, 0.3), 0 1px 3px 1px rgba(60, 64, 67, 0.15);\n",
              "    fill: var(--button-hover-fill-color);\n",
              "  }\n",
              "\n",
              "  .colab-df-quickchart-complete:disabled,\n",
              "  .colab-df-quickchart-complete:disabled:hover {\n",
              "    background-color: var(--disabled-bg-color);\n",
              "    fill: var(--disabled-fill-color);\n",
              "    box-shadow: none;\n",
              "  }\n",
              "\n",
              "  .colab-df-spinner {\n",
              "    border: 2px solid var(--fill-color);\n",
              "    border-color: transparent;\n",
              "    border-bottom-color: var(--fill-color);\n",
              "    animation:\n",
              "      spin 1s steps(1) infinite;\n",
              "  }\n",
              "\n",
              "  @keyframes spin {\n",
              "    0% {\n",
              "      border-color: transparent;\n",
              "      border-bottom-color: var(--fill-color);\n",
              "      border-left-color: var(--fill-color);\n",
              "    }\n",
              "    20% {\n",
              "      border-color: transparent;\n",
              "      border-left-color: var(--fill-color);\n",
              "      border-top-color: var(--fill-color);\n",
              "    }\n",
              "    30% {\n",
              "      border-color: transparent;\n",
              "      border-left-color: var(--fill-color);\n",
              "      border-top-color: var(--fill-color);\n",
              "      border-right-color: var(--fill-color);\n",
              "    }\n",
              "    40% {\n",
              "      border-color: transparent;\n",
              "      border-right-color: var(--fill-color);\n",
              "      border-top-color: var(--fill-color);\n",
              "    }\n",
              "    60% {\n",
              "      border-color: transparent;\n",
              "      border-right-color: var(--fill-color);\n",
              "    }\n",
              "    80% {\n",
              "      border-color: transparent;\n",
              "      border-right-color: var(--fill-color);\n",
              "      border-bottom-color: var(--fill-color);\n",
              "    }\n",
              "    90% {\n",
              "      border-color: transparent;\n",
              "      border-bottom-color: var(--fill-color);\n",
              "    }\n",
              "  }\n",
              "</style>\n",
              "\n",
              "  <script>\n",
              "    async function quickchart(key) {\n",
              "      const quickchartButtonEl =\n",
              "        document.querySelector('#' + key + ' button');\n",
              "      quickchartButtonEl.disabled = true;  // To prevent multiple clicks.\n",
              "      quickchartButtonEl.classList.add('colab-df-spinner');\n",
              "      try {\n",
              "        const charts = await google.colab.kernel.invokeFunction(\n",
              "            'suggestCharts', [key], {});\n",
              "      } catch (error) {\n",
              "        console.error('Error during call to suggestCharts:', error);\n",
              "      }\n",
              "      quickchartButtonEl.classList.remove('colab-df-spinner');\n",
              "      quickchartButtonEl.classList.add('colab-df-quickchart-complete');\n",
              "    }\n",
              "    (() => {\n",
              "      let quickchartButtonEl =\n",
              "        document.querySelector('#df-9d668dc2-142e-4a19-bcbc-9ed7baafa0f0 button');\n",
              "      quickchartButtonEl.style.display =\n",
              "        google.colab.kernel.accessAllowed ? 'block' : 'none';\n",
              "    })();\n",
              "  </script>\n",
              "</div>\n",
              "    </div>\n",
              "  </div>\n"
            ]
          },
          "metadata": {},
          "execution_count": 15
        }
      ]
    },
    {
      "cell_type": "code",
      "source": [
        "df_train.describe()"
      ],
      "metadata": {
        "colab": {
          "base_uri": "https://localhost:8080/",
          "height": 300
        },
        "id": "6aO242pvdd9o",
        "outputId": "eca7a7b8-cd2e-4deb-d83f-005c3554547a"
      },
      "execution_count": 16,
      "outputs": [
        {
          "output_type": "execute_result",
          "data": {
            "text/plain": [
              "       temperature  consumption\n",
              "count  8240.000000  8240.000000\n",
              "mean     13.537147     9.519029\n",
              "std       7.740927     6.707229\n",
              "min      -6.630000     1.168000\n",
              "25%       8.287500     2.250000\n",
              "50%      13.320000     8.585000\n",
              "75%      18.760000    15.333000\n",
              "max      39.500000    34.833000"
            ],
            "text/html": [
              "\n",
              "  <div id=\"df-342c42ce-5607-43db-bda4-8235fb93c477\" class=\"colab-df-container\">\n",
              "    <div>\n",
              "<style scoped>\n",
              "    .dataframe tbody tr th:only-of-type {\n",
              "        vertical-align: middle;\n",
              "    }\n",
              "\n",
              "    .dataframe tbody tr th {\n",
              "        vertical-align: top;\n",
              "    }\n",
              "\n",
              "    .dataframe thead th {\n",
              "        text-align: right;\n",
              "    }\n",
              "</style>\n",
              "<table border=\"1\" class=\"dataframe\">\n",
              "  <thead>\n",
              "    <tr style=\"text-align: right;\">\n",
              "      <th></th>\n",
              "      <th>temperature</th>\n",
              "      <th>consumption</th>\n",
              "    </tr>\n",
              "  </thead>\n",
              "  <tbody>\n",
              "    <tr>\n",
              "      <th>count</th>\n",
              "      <td>8240.000000</td>\n",
              "      <td>8240.000000</td>\n",
              "    </tr>\n",
              "    <tr>\n",
              "      <th>mean</th>\n",
              "      <td>13.537147</td>\n",
              "      <td>9.519029</td>\n",
              "    </tr>\n",
              "    <tr>\n",
              "      <th>std</th>\n",
              "      <td>7.740927</td>\n",
              "      <td>6.707229</td>\n",
              "    </tr>\n",
              "    <tr>\n",
              "      <th>min</th>\n",
              "      <td>-6.630000</td>\n",
              "      <td>1.168000</td>\n",
              "    </tr>\n",
              "    <tr>\n",
              "      <th>25%</th>\n",
              "      <td>8.287500</td>\n",
              "      <td>2.250000</td>\n",
              "    </tr>\n",
              "    <tr>\n",
              "      <th>50%</th>\n",
              "      <td>13.320000</td>\n",
              "      <td>8.585000</td>\n",
              "    </tr>\n",
              "    <tr>\n",
              "      <th>75%</th>\n",
              "      <td>18.760000</td>\n",
              "      <td>15.333000</td>\n",
              "    </tr>\n",
              "    <tr>\n",
              "      <th>max</th>\n",
              "      <td>39.500000</td>\n",
              "      <td>34.833000</td>\n",
              "    </tr>\n",
              "  </tbody>\n",
              "</table>\n",
              "</div>\n",
              "    <div class=\"colab-df-buttons\">\n",
              "\n",
              "  <div class=\"colab-df-container\">\n",
              "    <button class=\"colab-df-convert\" onclick=\"convertToInteractive('df-342c42ce-5607-43db-bda4-8235fb93c477')\"\n",
              "            title=\"Convert this dataframe to an interactive table.\"\n",
              "            style=\"display:none;\">\n",
              "\n",
              "  <svg xmlns=\"http://www.w3.org/2000/svg\" height=\"24px\" viewBox=\"0 -960 960 960\">\n",
              "    <path d=\"M120-120v-720h720v720H120Zm60-500h600v-160H180v160Zm220 220h160v-160H400v160Zm0 220h160v-160H400v160ZM180-400h160v-160H180v160Zm440 0h160v-160H620v160ZM180-180h160v-160H180v160Zm440 0h160v-160H620v160Z\"/>\n",
              "  </svg>\n",
              "    </button>\n",
              "\n",
              "  <style>\n",
              "    .colab-df-container {\n",
              "      display:flex;\n",
              "      gap: 12px;\n",
              "    }\n",
              "\n",
              "    .colab-df-convert {\n",
              "      background-color: #E8F0FE;\n",
              "      border: none;\n",
              "      border-radius: 50%;\n",
              "      cursor: pointer;\n",
              "      display: none;\n",
              "      fill: #1967D2;\n",
              "      height: 32px;\n",
              "      padding: 0 0 0 0;\n",
              "      width: 32px;\n",
              "    }\n",
              "\n",
              "    .colab-df-convert:hover {\n",
              "      background-color: #E2EBFA;\n",
              "      box-shadow: 0px 1px 2px rgba(60, 64, 67, 0.3), 0px 1px 3px 1px rgba(60, 64, 67, 0.15);\n",
              "      fill: #174EA6;\n",
              "    }\n",
              "\n",
              "    .colab-df-buttons div {\n",
              "      margin-bottom: 4px;\n",
              "    }\n",
              "\n",
              "    [theme=dark] .colab-df-convert {\n",
              "      background-color: #3B4455;\n",
              "      fill: #D2E3FC;\n",
              "    }\n",
              "\n",
              "    [theme=dark] .colab-df-convert:hover {\n",
              "      background-color: #434B5C;\n",
              "      box-shadow: 0px 1px 3px 1px rgba(0, 0, 0, 0.15);\n",
              "      filter: drop-shadow(0px 1px 2px rgba(0, 0, 0, 0.3));\n",
              "      fill: #FFFFFF;\n",
              "    }\n",
              "  </style>\n",
              "\n",
              "    <script>\n",
              "      const buttonEl =\n",
              "        document.querySelector('#df-342c42ce-5607-43db-bda4-8235fb93c477 button.colab-df-convert');\n",
              "      buttonEl.style.display =\n",
              "        google.colab.kernel.accessAllowed ? 'block' : 'none';\n",
              "\n",
              "      async function convertToInteractive(key) {\n",
              "        const element = document.querySelector('#df-342c42ce-5607-43db-bda4-8235fb93c477');\n",
              "        const dataTable =\n",
              "          await google.colab.kernel.invokeFunction('convertToInteractive',\n",
              "                                                    [key], {});\n",
              "        if (!dataTable) return;\n",
              "\n",
              "        const docLinkHtml = 'Like what you see? Visit the ' +\n",
              "          '<a target=\"_blank\" href=https://colab.research.google.com/notebooks/data_table.ipynb>data table notebook</a>'\n",
              "          + ' to learn more about interactive tables.';\n",
              "        element.innerHTML = '';\n",
              "        dataTable['output_type'] = 'display_data';\n",
              "        await google.colab.output.renderOutput(dataTable, element);\n",
              "        const docLink = document.createElement('div');\n",
              "        docLink.innerHTML = docLinkHtml;\n",
              "        element.appendChild(docLink);\n",
              "      }\n",
              "    </script>\n",
              "  </div>\n",
              "\n",
              "\n",
              "<div id=\"df-dfeccb5f-1ed3-47a9-aea1-4facd9b65165\">\n",
              "  <button class=\"colab-df-quickchart\" onclick=\"quickchart('df-dfeccb5f-1ed3-47a9-aea1-4facd9b65165')\"\n",
              "            title=\"Suggest charts\"\n",
              "            style=\"display:none;\">\n",
              "\n",
              "<svg xmlns=\"http://www.w3.org/2000/svg\" height=\"24px\"viewBox=\"0 0 24 24\"\n",
              "     width=\"24px\">\n",
              "    <g>\n",
              "        <path d=\"M19 3H5c-1.1 0-2 .9-2 2v14c0 1.1.9 2 2 2h14c1.1 0 2-.9 2-2V5c0-1.1-.9-2-2-2zM9 17H7v-7h2v7zm4 0h-2V7h2v10zm4 0h-2v-4h2v4z\"/>\n",
              "    </g>\n",
              "</svg>\n",
              "  </button>\n",
              "\n",
              "<style>\n",
              "  .colab-df-quickchart {\n",
              "      --bg-color: #E8F0FE;\n",
              "      --fill-color: #1967D2;\n",
              "      --hover-bg-color: #E2EBFA;\n",
              "      --hover-fill-color: #174EA6;\n",
              "      --disabled-fill-color: #AAA;\n",
              "      --disabled-bg-color: #DDD;\n",
              "  }\n",
              "\n",
              "  [theme=dark] .colab-df-quickchart {\n",
              "      --bg-color: #3B4455;\n",
              "      --fill-color: #D2E3FC;\n",
              "      --hover-bg-color: #434B5C;\n",
              "      --hover-fill-color: #FFFFFF;\n",
              "      --disabled-bg-color: #3B4455;\n",
              "      --disabled-fill-color: #666;\n",
              "  }\n",
              "\n",
              "  .colab-df-quickchart {\n",
              "    background-color: var(--bg-color);\n",
              "    border: none;\n",
              "    border-radius: 50%;\n",
              "    cursor: pointer;\n",
              "    display: none;\n",
              "    fill: var(--fill-color);\n",
              "    height: 32px;\n",
              "    padding: 0;\n",
              "    width: 32px;\n",
              "  }\n",
              "\n",
              "  .colab-df-quickchart:hover {\n",
              "    background-color: var(--hover-bg-color);\n",
              "    box-shadow: 0 1px 2px rgba(60, 64, 67, 0.3), 0 1px 3px 1px rgba(60, 64, 67, 0.15);\n",
              "    fill: var(--button-hover-fill-color);\n",
              "  }\n",
              "\n",
              "  .colab-df-quickchart-complete:disabled,\n",
              "  .colab-df-quickchart-complete:disabled:hover {\n",
              "    background-color: var(--disabled-bg-color);\n",
              "    fill: var(--disabled-fill-color);\n",
              "    box-shadow: none;\n",
              "  }\n",
              "\n",
              "  .colab-df-spinner {\n",
              "    border: 2px solid var(--fill-color);\n",
              "    border-color: transparent;\n",
              "    border-bottom-color: var(--fill-color);\n",
              "    animation:\n",
              "      spin 1s steps(1) infinite;\n",
              "  }\n",
              "\n",
              "  @keyframes spin {\n",
              "    0% {\n",
              "      border-color: transparent;\n",
              "      border-bottom-color: var(--fill-color);\n",
              "      border-left-color: var(--fill-color);\n",
              "    }\n",
              "    20% {\n",
              "      border-color: transparent;\n",
              "      border-left-color: var(--fill-color);\n",
              "      border-top-color: var(--fill-color);\n",
              "    }\n",
              "    30% {\n",
              "      border-color: transparent;\n",
              "      border-left-color: var(--fill-color);\n",
              "      border-top-color: var(--fill-color);\n",
              "      border-right-color: var(--fill-color);\n",
              "    }\n",
              "    40% {\n",
              "      border-color: transparent;\n",
              "      border-right-color: var(--fill-color);\n",
              "      border-top-color: var(--fill-color);\n",
              "    }\n",
              "    60% {\n",
              "      border-color: transparent;\n",
              "      border-right-color: var(--fill-color);\n",
              "    }\n",
              "    80% {\n",
              "      border-color: transparent;\n",
              "      border-right-color: var(--fill-color);\n",
              "      border-bottom-color: var(--fill-color);\n",
              "    }\n",
              "    90% {\n",
              "      border-color: transparent;\n",
              "      border-bottom-color: var(--fill-color);\n",
              "    }\n",
              "  }\n",
              "</style>\n",
              "\n",
              "  <script>\n",
              "    async function quickchart(key) {\n",
              "      const quickchartButtonEl =\n",
              "        document.querySelector('#' + key + ' button');\n",
              "      quickchartButtonEl.disabled = true;  // To prevent multiple clicks.\n",
              "      quickchartButtonEl.classList.add('colab-df-spinner');\n",
              "      try {\n",
              "        const charts = await google.colab.kernel.invokeFunction(\n",
              "            'suggestCharts', [key], {});\n",
              "      } catch (error) {\n",
              "        console.error('Error during call to suggestCharts:', error);\n",
              "      }\n",
              "      quickchartButtonEl.classList.remove('colab-df-spinner');\n",
              "      quickchartButtonEl.classList.add('colab-df-quickchart-complete');\n",
              "    }\n",
              "    (() => {\n",
              "      let quickchartButtonEl =\n",
              "        document.querySelector('#df-dfeccb5f-1ed3-47a9-aea1-4facd9b65165 button');\n",
              "      quickchartButtonEl.style.display =\n",
              "        google.colab.kernel.accessAllowed ? 'block' : 'none';\n",
              "    })();\n",
              "  </script>\n",
              "</div>\n",
              "    </div>\n",
              "  </div>\n"
            ]
          },
          "metadata": {},
          "execution_count": 16
        }
      ]
    },
    {
      "cell_type": "markdown",
      "source": [
        "## Instantiating Relu models with a through p parames from db and plotting predictions"
      ],
      "metadata": {
        "id": "aMCxaH_MGt2i"
      }
    },
    {
      "cell_type": "code",
      "source": [
        "df_model_params = get_model_parameters_df(id_site_global)\n",
        "for letter in 'abcdefghijklmnop':\n",
        "    exec(f'{letter} = df_model_params.at[0, \"{letter}\"]')\n",
        "\n",
        "OpenModel = PrevisionalModelReluSimple()\n",
        "OpenModel.set_custom_weights_open(a,b,c,d,e,f,g,h,i,j,k,l,m,n,o,p)\n",
        "OpenModel = OpenModel.to(torch.float32)\n",
        "\n",
        "ClosedModel = PrevisionalModelReluSimple()\n",
        "ClosedModel.set_custom_weights_closed(a,b,c,d,e,f,g,h,i,j,k,l,m,n,o,p)\n",
        "ClosedModel = ClosedModel.to(torch.float32)"
      ],
      "metadata": {
        "id": "syXc9GukHls_",
        "colab": {
          "base_uri": "https://localhost:8080/"
        },
        "outputId": "fbe7713c-6c32-41ab-911b-20a92c5c7b87"
      },
      "execution_count": 17,
      "outputs": [
        {
          "output_type": "stream",
          "name": "stderr",
          "text": [
            "<ipython-input-11-4d7c046999e1>:7: UserWarning: pandas only supports SQLAlchemy connectable (engine/connection) or database string URI or sqlite3 DBAPI2 connection. Other DBAPI2 objects are not tested. Please consider using SQLAlchemy.\n",
            "  df_model_params = pd.read_sql(sql_query,mydb)\n"
          ]
        }
      ]
    },
    {
      "cell_type": "code",
      "source": [
        "df_merged = create_train_df(id_site_global, reference_period_start, reference_period_end)"
      ],
      "metadata": {
        "colab": {
          "base_uri": "https://localhost:8080/"
        },
        "id": "zyGRMExjeRm3",
        "outputId": "104b5007-f89d-48c1-ef88-57b2d1dbb31b"
      },
      "execution_count": 18,
      "outputs": [
        {
          "output_type": "stream",
          "name": "stderr",
          "text": [
            "<ipython-input-9-346bd55f1cc4>:8: UserWarning: pandas only supports SQLAlchemy connectable (engine/connection) or database string URI or sqlite3 DBAPI2 connection. Other DBAPI2 objects are not tested. Please consider using SQLAlchemy.\n",
            "  bdd_nom_df = pd.read_sql(sql_query,mydb)\n",
            "<ipython-input-10-f18e71d450f8>:10: UserWarning: pandas only supports SQLAlchemy connectable (engine/connection) or database string URI or sqlite3 DBAPI2 connection. Other DBAPI2 objects are not tested. Please consider using SQLAlchemy.\n",
            "  df_horaires_ouverture = pd.read_sql(sql_query_horaires,mydb)\n",
            "<ipython-input-10-f18e71d450f8>:11: UserWarning: pandas only supports SQLAlchemy connectable (engine/connection) or database string URI or sqlite3 DBAPI2 connection. Other DBAPI2 objects are not tested. Please consider using SQLAlchemy.\n",
            "  df_fermetures_exceptionnelles = pd.read_sql(sql_query_fermetures_exceptionnelles,mydb)\n",
            "<ipython-input-10-f18e71d450f8>:12: UserWarning: pandas only supports SQLAlchemy connectable (engine/connection) or database string URI or sqlite3 DBAPI2 connection. Other DBAPI2 objects are not tested. Please consider using SQLAlchemy.\n",
            "  df_horaires_ouvertures_exceptionnelles = pd.read_sql(sql_query_horaires_ouvertures_exceptionnelles,mydb)\n",
            "<ipython-input-10-f18e71d450f8>:13: UserWarning: pandas only supports SQLAlchemy connectable (engine/connection) or database string URI or sqlite3 DBAPI2 connection. Other DBAPI2 objects are not tested. Please consider using SQLAlchemy.\n",
            "  df_temperature = pd.read_sql(sql_query_temperature,mydb)\n",
            "<ipython-input-10-f18e71d450f8>:14: UserWarning: pandas only supports SQLAlchemy connectable (engine/connection) or database string URI or sqlite3 DBAPI2 connection. Other DBAPI2 objects are not tested. Please consider using SQLAlchemy.\n",
            "  df_consumption = pd.read_sql(get_consumption_query,mydb)\n"
          ]
        }
      ]
    },
    {
      "cell_type": "code",
      "source": [
        "#df_train['temperature'] = df_temperature['temperature'].astype(float)\n",
        "input_values = df_merged.loc[df_merged['is_open']==True,'temperature'].astype(float).values\n",
        "\n",
        "tensor_1d = torch.tensor(input_values, dtype=torch.float32)\n",
        "\n",
        "# Reshape the 1D tensor into a 2D tensor with the desired shape\n",
        "desired_shape = (len(input_values), 1)  # The shape should be Nx1\n",
        "tensor_2d = tensor_1d.view(desired_shape).to(torch.float32)\n",
        "\n",
        "# Pass the input values through the model to obtain predictions\n",
        "with torch.no_grad():\n",
        "    open_predictions = OpenModel(tensor_2d)\n",
        "\n",
        "# Convert predictions to a NumPy array for plotting\n",
        "df_merged.loc[df_merged['is_open']==True,'predicted_consumption_param_relu'] = open_predictions.numpy()"
      ],
      "metadata": {
        "id": "EYkykncrH2fT"
      },
      "execution_count": 19,
      "outputs": []
    },
    {
      "cell_type": "code",
      "source": [
        "#df_temperature['temperature'] = df_temperature['temperature'].astype(float)\n",
        "input_values = df_merged.loc[df_merged['is_open']==False,'temperature'].astype(float).values\n",
        "\n",
        "tensor_1d = torch.tensor(input_values, dtype=torch.float32)\n",
        "\n",
        "# Reshape the 1D tensor into a 2D tensor with the desired shape\n",
        "desired_shape = (len(input_values), 1)  # The shape should be Nx1\n",
        "tensor_2d = tensor_1d.view(desired_shape).to(torch.float32)\n",
        "\n",
        "# Pass the input values through the model to obtain predictions\n",
        "with torch.no_grad():\n",
        "    closed_predictions = ClosedModel(tensor_2d)\n",
        "\n",
        "# Convert predictions to a NumPy array for plotting\n",
        "df_merged.loc[df_merged['is_open']==False,'predicted_consumption_param_relu'] = closed_predictions.numpy()"
      ],
      "metadata": {
        "id": "YIdH5rOhIY2q"
      },
      "execution_count": 20,
      "outputs": []
    },
    {
      "cell_type": "code",
      "source": [
        "df_merged.head(300)"
      ],
      "metadata": {
        "id": "w-io8UvGLu4j",
        "colab": {
          "base_uri": "https://localhost:8080/",
          "height": 0
        },
        "outputId": "8bd5a92e-4ae4-49d7-e84b-18383a25f84c"
      },
      "execution_count": 21,
      "outputs": [
        {
          "output_type": "execute_result",
          "data": {
            "text/plain": [
              "               datetime  temperature  is_open  consumption  \\\n",
              "0   2022-04-11 00:00:00         8.29    False        1.666   \n",
              "1   2022-04-11 01:00:00         7.80    False        1.666   \n",
              "2   2022-04-11 02:00:00         7.09    False        1.666   \n",
              "3   2022-04-11 03:00:00         6.45    False        1.666   \n",
              "4   2022-04-11 04:00:00         5.97    False        1.666   \n",
              "..                  ...          ...      ...          ...   \n",
              "295 2022-04-23 07:00:00         9.95     True        8.165   \n",
              "296 2022-04-23 08:00:00        10.35     True        8.165   \n",
              "297 2022-04-23 09:00:00        11.69     True        8.499   \n",
              "298 2022-04-23 10:00:00        12.95     True        8.499   \n",
              "299 2022-04-23 11:00:00        14.35     True        8.666   \n",
              "\n",
              "     predicted_consumption_param_relu  \n",
              "0                            1.750986  \n",
              "1                            1.858066  \n",
              "2                            2.013222  \n",
              "3                            2.153081  \n",
              "4                            2.257976  \n",
              "..                                ...  \n",
              "295                          7.372458  \n",
              "296                          7.670717  \n",
              "297                          8.669884  \n",
              "298                          9.609399  \n",
              "299                         10.653307  \n",
              "\n",
              "[300 rows x 5 columns]"
            ],
            "text/html": [
              "\n",
              "  <div id=\"df-43e34804-0462-4894-98b0-68d4996d430d\" class=\"colab-df-container\">\n",
              "    <div>\n",
              "<style scoped>\n",
              "    .dataframe tbody tr th:only-of-type {\n",
              "        vertical-align: middle;\n",
              "    }\n",
              "\n",
              "    .dataframe tbody tr th {\n",
              "        vertical-align: top;\n",
              "    }\n",
              "\n",
              "    .dataframe thead th {\n",
              "        text-align: right;\n",
              "    }\n",
              "</style>\n",
              "<table border=\"1\" class=\"dataframe\">\n",
              "  <thead>\n",
              "    <tr style=\"text-align: right;\">\n",
              "      <th></th>\n",
              "      <th>datetime</th>\n",
              "      <th>temperature</th>\n",
              "      <th>is_open</th>\n",
              "      <th>consumption</th>\n",
              "      <th>predicted_consumption_param_relu</th>\n",
              "    </tr>\n",
              "  </thead>\n",
              "  <tbody>\n",
              "    <tr>\n",
              "      <th>0</th>\n",
              "      <td>2022-04-11 00:00:00</td>\n",
              "      <td>8.29</td>\n",
              "      <td>False</td>\n",
              "      <td>1.666</td>\n",
              "      <td>1.750986</td>\n",
              "    </tr>\n",
              "    <tr>\n",
              "      <th>1</th>\n",
              "      <td>2022-04-11 01:00:00</td>\n",
              "      <td>7.80</td>\n",
              "      <td>False</td>\n",
              "      <td>1.666</td>\n",
              "      <td>1.858066</td>\n",
              "    </tr>\n",
              "    <tr>\n",
              "      <th>2</th>\n",
              "      <td>2022-04-11 02:00:00</td>\n",
              "      <td>7.09</td>\n",
              "      <td>False</td>\n",
              "      <td>1.666</td>\n",
              "      <td>2.013222</td>\n",
              "    </tr>\n",
              "    <tr>\n",
              "      <th>3</th>\n",
              "      <td>2022-04-11 03:00:00</td>\n",
              "      <td>6.45</td>\n",
              "      <td>False</td>\n",
              "      <td>1.666</td>\n",
              "      <td>2.153081</td>\n",
              "    </tr>\n",
              "    <tr>\n",
              "      <th>4</th>\n",
              "      <td>2022-04-11 04:00:00</td>\n",
              "      <td>5.97</td>\n",
              "      <td>False</td>\n",
              "      <td>1.666</td>\n",
              "      <td>2.257976</td>\n",
              "    </tr>\n",
              "    <tr>\n",
              "      <th>...</th>\n",
              "      <td>...</td>\n",
              "      <td>...</td>\n",
              "      <td>...</td>\n",
              "      <td>...</td>\n",
              "      <td>...</td>\n",
              "    </tr>\n",
              "    <tr>\n",
              "      <th>295</th>\n",
              "      <td>2022-04-23 07:00:00</td>\n",
              "      <td>9.95</td>\n",
              "      <td>True</td>\n",
              "      <td>8.165</td>\n",
              "      <td>7.372458</td>\n",
              "    </tr>\n",
              "    <tr>\n",
              "      <th>296</th>\n",
              "      <td>2022-04-23 08:00:00</td>\n",
              "      <td>10.35</td>\n",
              "      <td>True</td>\n",
              "      <td>8.165</td>\n",
              "      <td>7.670717</td>\n",
              "    </tr>\n",
              "    <tr>\n",
              "      <th>297</th>\n",
              "      <td>2022-04-23 09:00:00</td>\n",
              "      <td>11.69</td>\n",
              "      <td>True</td>\n",
              "      <td>8.499</td>\n",
              "      <td>8.669884</td>\n",
              "    </tr>\n",
              "    <tr>\n",
              "      <th>298</th>\n",
              "      <td>2022-04-23 10:00:00</td>\n",
              "      <td>12.95</td>\n",
              "      <td>True</td>\n",
              "      <td>8.499</td>\n",
              "      <td>9.609399</td>\n",
              "    </tr>\n",
              "    <tr>\n",
              "      <th>299</th>\n",
              "      <td>2022-04-23 11:00:00</td>\n",
              "      <td>14.35</td>\n",
              "      <td>True</td>\n",
              "      <td>8.666</td>\n",
              "      <td>10.653307</td>\n",
              "    </tr>\n",
              "  </tbody>\n",
              "</table>\n",
              "<p>300 rows × 5 columns</p>\n",
              "</div>\n",
              "    <div class=\"colab-df-buttons\">\n",
              "\n",
              "  <div class=\"colab-df-container\">\n",
              "    <button class=\"colab-df-convert\" onclick=\"convertToInteractive('df-43e34804-0462-4894-98b0-68d4996d430d')\"\n",
              "            title=\"Convert this dataframe to an interactive table.\"\n",
              "            style=\"display:none;\">\n",
              "\n",
              "  <svg xmlns=\"http://www.w3.org/2000/svg\" height=\"24px\" viewBox=\"0 -960 960 960\">\n",
              "    <path d=\"M120-120v-720h720v720H120Zm60-500h600v-160H180v160Zm220 220h160v-160H400v160Zm0 220h160v-160H400v160ZM180-400h160v-160H180v160Zm440 0h160v-160H620v160ZM180-180h160v-160H180v160Zm440 0h160v-160H620v160Z\"/>\n",
              "  </svg>\n",
              "    </button>\n",
              "\n",
              "  <style>\n",
              "    .colab-df-container {\n",
              "      display:flex;\n",
              "      gap: 12px;\n",
              "    }\n",
              "\n",
              "    .colab-df-convert {\n",
              "      background-color: #E8F0FE;\n",
              "      border: none;\n",
              "      border-radius: 50%;\n",
              "      cursor: pointer;\n",
              "      display: none;\n",
              "      fill: #1967D2;\n",
              "      height: 32px;\n",
              "      padding: 0 0 0 0;\n",
              "      width: 32px;\n",
              "    }\n",
              "\n",
              "    .colab-df-convert:hover {\n",
              "      background-color: #E2EBFA;\n",
              "      box-shadow: 0px 1px 2px rgba(60, 64, 67, 0.3), 0px 1px 3px 1px rgba(60, 64, 67, 0.15);\n",
              "      fill: #174EA6;\n",
              "    }\n",
              "\n",
              "    .colab-df-buttons div {\n",
              "      margin-bottom: 4px;\n",
              "    }\n",
              "\n",
              "    [theme=dark] .colab-df-convert {\n",
              "      background-color: #3B4455;\n",
              "      fill: #D2E3FC;\n",
              "    }\n",
              "\n",
              "    [theme=dark] .colab-df-convert:hover {\n",
              "      background-color: #434B5C;\n",
              "      box-shadow: 0px 1px 3px 1px rgba(0, 0, 0, 0.15);\n",
              "      filter: drop-shadow(0px 1px 2px rgba(0, 0, 0, 0.3));\n",
              "      fill: #FFFFFF;\n",
              "    }\n",
              "  </style>\n",
              "\n",
              "    <script>\n",
              "      const buttonEl =\n",
              "        document.querySelector('#df-43e34804-0462-4894-98b0-68d4996d430d button.colab-df-convert');\n",
              "      buttonEl.style.display =\n",
              "        google.colab.kernel.accessAllowed ? 'block' : 'none';\n",
              "\n",
              "      async function convertToInteractive(key) {\n",
              "        const element = document.querySelector('#df-43e34804-0462-4894-98b0-68d4996d430d');\n",
              "        const dataTable =\n",
              "          await google.colab.kernel.invokeFunction('convertToInteractive',\n",
              "                                                    [key], {});\n",
              "        if (!dataTable) return;\n",
              "\n",
              "        const docLinkHtml = 'Like what you see? Visit the ' +\n",
              "          '<a target=\"_blank\" href=https://colab.research.google.com/notebooks/data_table.ipynb>data table notebook</a>'\n",
              "          + ' to learn more about interactive tables.';\n",
              "        element.innerHTML = '';\n",
              "        dataTable['output_type'] = 'display_data';\n",
              "        await google.colab.output.renderOutput(dataTable, element);\n",
              "        const docLink = document.createElement('div');\n",
              "        docLink.innerHTML = docLinkHtml;\n",
              "        element.appendChild(docLink);\n",
              "      }\n",
              "    </script>\n",
              "  </div>\n",
              "\n",
              "\n",
              "<div id=\"df-653944c0-361b-44c3-a131-f173bcd7f4c7\">\n",
              "  <button class=\"colab-df-quickchart\" onclick=\"quickchart('df-653944c0-361b-44c3-a131-f173bcd7f4c7')\"\n",
              "            title=\"Suggest charts\"\n",
              "            style=\"display:none;\">\n",
              "\n",
              "<svg xmlns=\"http://www.w3.org/2000/svg\" height=\"24px\"viewBox=\"0 0 24 24\"\n",
              "     width=\"24px\">\n",
              "    <g>\n",
              "        <path d=\"M19 3H5c-1.1 0-2 .9-2 2v14c0 1.1.9 2 2 2h14c1.1 0 2-.9 2-2V5c0-1.1-.9-2-2-2zM9 17H7v-7h2v7zm4 0h-2V7h2v10zm4 0h-2v-4h2v4z\"/>\n",
              "    </g>\n",
              "</svg>\n",
              "  </button>\n",
              "\n",
              "<style>\n",
              "  .colab-df-quickchart {\n",
              "      --bg-color: #E8F0FE;\n",
              "      --fill-color: #1967D2;\n",
              "      --hover-bg-color: #E2EBFA;\n",
              "      --hover-fill-color: #174EA6;\n",
              "      --disabled-fill-color: #AAA;\n",
              "      --disabled-bg-color: #DDD;\n",
              "  }\n",
              "\n",
              "  [theme=dark] .colab-df-quickchart {\n",
              "      --bg-color: #3B4455;\n",
              "      --fill-color: #D2E3FC;\n",
              "      --hover-bg-color: #434B5C;\n",
              "      --hover-fill-color: #FFFFFF;\n",
              "      --disabled-bg-color: #3B4455;\n",
              "      --disabled-fill-color: #666;\n",
              "  }\n",
              "\n",
              "  .colab-df-quickchart {\n",
              "    background-color: var(--bg-color);\n",
              "    border: none;\n",
              "    border-radius: 50%;\n",
              "    cursor: pointer;\n",
              "    display: none;\n",
              "    fill: var(--fill-color);\n",
              "    height: 32px;\n",
              "    padding: 0;\n",
              "    width: 32px;\n",
              "  }\n",
              "\n",
              "  .colab-df-quickchart:hover {\n",
              "    background-color: var(--hover-bg-color);\n",
              "    box-shadow: 0 1px 2px rgba(60, 64, 67, 0.3), 0 1px 3px 1px rgba(60, 64, 67, 0.15);\n",
              "    fill: var(--button-hover-fill-color);\n",
              "  }\n",
              "\n",
              "  .colab-df-quickchart-complete:disabled,\n",
              "  .colab-df-quickchart-complete:disabled:hover {\n",
              "    background-color: var(--disabled-bg-color);\n",
              "    fill: var(--disabled-fill-color);\n",
              "    box-shadow: none;\n",
              "  }\n",
              "\n",
              "  .colab-df-spinner {\n",
              "    border: 2px solid var(--fill-color);\n",
              "    border-color: transparent;\n",
              "    border-bottom-color: var(--fill-color);\n",
              "    animation:\n",
              "      spin 1s steps(1) infinite;\n",
              "  }\n",
              "\n",
              "  @keyframes spin {\n",
              "    0% {\n",
              "      border-color: transparent;\n",
              "      border-bottom-color: var(--fill-color);\n",
              "      border-left-color: var(--fill-color);\n",
              "    }\n",
              "    20% {\n",
              "      border-color: transparent;\n",
              "      border-left-color: var(--fill-color);\n",
              "      border-top-color: var(--fill-color);\n",
              "    }\n",
              "    30% {\n",
              "      border-color: transparent;\n",
              "      border-left-color: var(--fill-color);\n",
              "      border-top-color: var(--fill-color);\n",
              "      border-right-color: var(--fill-color);\n",
              "    }\n",
              "    40% {\n",
              "      border-color: transparent;\n",
              "      border-right-color: var(--fill-color);\n",
              "      border-top-color: var(--fill-color);\n",
              "    }\n",
              "    60% {\n",
              "      border-color: transparent;\n",
              "      border-right-color: var(--fill-color);\n",
              "    }\n",
              "    80% {\n",
              "      border-color: transparent;\n",
              "      border-right-color: var(--fill-color);\n",
              "      border-bottom-color: var(--fill-color);\n",
              "    }\n",
              "    90% {\n",
              "      border-color: transparent;\n",
              "      border-bottom-color: var(--fill-color);\n",
              "    }\n",
              "  }\n",
              "</style>\n",
              "\n",
              "  <script>\n",
              "    async function quickchart(key) {\n",
              "      const quickchartButtonEl =\n",
              "        document.querySelector('#' + key + ' button');\n",
              "      quickchartButtonEl.disabled = true;  // To prevent multiple clicks.\n",
              "      quickchartButtonEl.classList.add('colab-df-spinner');\n",
              "      try {\n",
              "        const charts = await google.colab.kernel.invokeFunction(\n",
              "            'suggestCharts', [key], {});\n",
              "      } catch (error) {\n",
              "        console.error('Error during call to suggestCharts:', error);\n",
              "      }\n",
              "      quickchartButtonEl.classList.remove('colab-df-spinner');\n",
              "      quickchartButtonEl.classList.add('colab-df-quickchart-complete');\n",
              "    }\n",
              "    (() => {\n",
              "      let quickchartButtonEl =\n",
              "        document.querySelector('#df-653944c0-361b-44c3-a131-f173bcd7f4c7 button');\n",
              "      quickchartButtonEl.style.display =\n",
              "        google.colab.kernel.accessAllowed ? 'block' : 'none';\n",
              "    })();\n",
              "  </script>\n",
              "</div>\n",
              "    </div>\n",
              "  </div>\n"
            ]
          },
          "metadata": {},
          "execution_count": 21
        }
      ]
    },
    {
      "cell_type": "code",
      "source": [
        "# Plotting the predictions so that we can see our 2 estimators (open and closed)\n",
        "\n",
        "# Extract the 'temperature' and 'predicted_consumption' columns from the DataFrame\n",
        "temperature = df_merged['temperature']\n",
        "predicted_consumption = df_merged['predicted_consumption_param_relu']\n",
        "\n",
        "# Create a scatter plot\n",
        "plt.scatter(temperature, predicted_consumption, marker='o', color='b', label='Predicted Consumption')\n",
        "\n",
        "# Add labels to the axes\n",
        "plt.xlabel('Temperature')\n",
        "plt.ylabel('Predicted Consumption')\n",
        "\n",
        "# Add a title to the plot\n",
        "plt.title('Predicted Consumption vs Temperature with relu using params from DB')\n",
        "\n",
        "# Display a legend if needed\n",
        "plt.legend()\n",
        "\n",
        "# Show the plot\n",
        "plt.show()"
      ],
      "metadata": {
        "colab": {
          "base_uri": "https://localhost:8080/",
          "height": 0
        },
        "id": "oC-oY8XaTNc5",
        "outputId": "6d4d9945-65db-461e-bb6c-e842f9a03245"
      },
      "execution_count": 22,
      "outputs": [
        {
          "output_type": "display_data",
          "data": {
            "text/plain": [
              "<Figure size 640x480 with 1 Axes>"
            ],
            "image/png": "[encoded data removed]"
          },
          "metadata": {}
        }
      ]
    },
    {
      "cell_type": "code",
      "source": [
        "input_values = torch.arange(-10, 40.1, 0.1, dtype=torch.float32).view(-1, 1)\n",
        "\n",
        "# Pass the input values through the model to obtain predictions\n",
        "with torch.no_grad():\n",
        "    predictions = OpenModel(input_values)\n",
        "\n",
        "# Convert predictions to a NumPy array for plotting\n",
        "predictions = predictions.numpy()\n",
        "\n",
        "# Plot input values vs. predictions\n",
        "plt.figure(figsize=(10, 6))\n",
        "plt.plot(input_values.numpy(), predictions, label='Predictions', linestyle='-')\n",
        "plt.xlabel('Input Values')\n",
        "plt.ylabel('Predictions')\n",
        "plt.title('Custom Model Predictions')\n",
        "plt.grid(True)\n",
        "plt.legend()\n",
        "plt.show()"
      ],
      "metadata": {
        "id": "TE070F-iPn0d",
        "colab": {
          "base_uri": "https://localhost:8080/",
          "height": 0
        },
        "outputId": "0dcaf667-9243-4fae-b17f-136dcb5ab1d7"
      },
      "execution_count": 23,
      "outputs": [
        {
          "output_type": "display_data",
          "data": {
            "text/plain": [
              "<Figure size 1000x600 with 1 Axes>"
            ],
            "image/png": "[encoded data removed]"
          },
          "metadata": {}
        }
      ]
    },
    {
      "cell_type": "code",
      "source": [
        "datetime = df_merged.loc[(df_merged['datetime'] > '2019-09-14') & (df_merged['datetime'] < '2019-09-17'),'datetime']\n",
        "predicted_consumption = df_merged.loc[(df_merged['datetime'] > '2019-09-14') & (df_merged['datetime'] < '2019-09-17'),'predicted_consumption_param_relu']\n",
        "\n",
        "# Create a plot of predicted consumption vs datetime\n",
        "plt.figure(figsize=(14, 6))\n",
        "plt.plot(datetime, predicted_consumption, marker='o', linestyle='-', color='b', label='Predicted Consumption')\n",
        "\n",
        "# Create a DateFormatter to specify the date and time format\n",
        "date_format = DateFormatter(\"%d/%m/%Y %H:%M\")  # Example format: YYYY-MM-DD HH:MM:SS\n",
        "\n",
        "# Apply the date format to the x-axis\n",
        "plt.gca().xaxis.set_major_formatter(date_format)\n",
        "\n",
        "# Rotate the x-axis labels for better readability (optional)\n",
        "plt.xticks(rotation=45)\n",
        "\n",
        "# Add labels to the axes\n",
        "plt.xlabel('Datetime')\n",
        "plt.ylabel('Predicted Consumption')\n",
        "\n",
        "# Add a title to the plot\n",
        "plt.title('Predicted Consumption vs Datetime with relu isung params from DB')\n",
        "\n",
        "# Display a legend if needed\n",
        "plt.legend()\n",
        "\n",
        "# Show the plot\n",
        "plt.show()\n"
      ],
      "metadata": {
        "colab": {
          "base_uri": "https://localhost:8080/",
          "height": 0
        },
        "id": "OckeXUFBTs1I",
        "outputId": "0dc48d23-3608-4fc4-cc92-15780824955b"
      },
      "execution_count": 24,
      "outputs": [
        {
          "output_type": "display_data",
          "data": {
            "text/plain": [
              "<Figure size 1400x600 with 1 Axes>"
            ],
            "image/png": "[encoded data removed]"
          },
          "metadata": {}
        }
      ]
    },
    {
      "cell_type": "markdown",
      "source": [
        "### Conclusion of test\n",
        "There are differences between our model and the existing production models because the production models are discontinuous while our single layer perceptron will always produce a continuous piecewise linear.\n",
        "Next we will compare a fitted perceptron to current productions models. For that we will make a piecewise linear function with parameters from existing models and compare to a fitted model."
      ],
      "metadata": {
        "id": "AEGFzkIoUeky"
      }
    },
    {
      "cell_type": "markdown",
      "source": [
        "\n",
        "## Fit linear NN to data and compare with piecewise linear"
      ],
      "metadata": {
        "id": "E3LWo9erUvCu"
      }
    },
    {
      "cell_type": "markdown",
      "source": [
        "## Make piecewise linear function based on a to p parameters from DB"
      ],
      "metadata": {
        "id": "MXPkBqmxWpf0"
      }
    },
    {
      "cell_type": "code",
      "source": [
        "class PiecewiseEstimator:\n",
        "  def __init__(self, id_site_global):\n",
        "\n",
        "    df_model_params = get_model_parameters_df(id_site_global)\n",
        "\n",
        "    for letter in 'abcdefghijklmnop':\n",
        "        setattr(self, letter, df_model_params.at[0, letter])\n",
        "\n",
        "  def open_piecewise(self,x):\n",
        "    # Define breakpoints for the segments\n",
        "    breakpoints = [self.m, self.n, self.o, self.p]\n",
        "\n",
        "    # Define the slopes and offsets for each segment\n",
        "    slopes = [self.a, self.c, self.e]\n",
        "    offsets = [self.b, self.d, self.f]\n",
        "\n",
        "    # Create the piecewise linear function using np.piecewise\n",
        "    fx = np.piecewise(x, [x < breakpoints[0],\n",
        "                        (x >= breakpoints[0]) & (x < breakpoints[1]),\n",
        "                        (x >= breakpoints[1]) & (x < breakpoints[2]),\n",
        "                        (x >= breakpoints[2]) & (x < breakpoints[3]),\n",
        "                        x >= breakpoints[3]],\n",
        "                    [lambda x:  slopes[0] * breakpoints[0] +  offsets[0],\n",
        "                    lambda x:  slopes[0] * x +  offsets[0],\n",
        "                    lambda x:  slopes[1] * x +  offsets[1],\n",
        "                    lambda x:  slopes[2] * x +  offsets[2],\n",
        "                    lambda x:  slopes[2] * breakpoints[3] +  offsets[2]])\n",
        "\n",
        "\n",
        "    return fx\n",
        "\n",
        "  def closed_piecewise(self,x):\n",
        "    # Define breakpoints for the segments\n",
        "    breakpoints = [self.m, self.n, self.o, self.p]\n",
        "\n",
        "    # Define the slopes and offsets for each segment\n",
        "    slopes = [self.g, self.i, self.k]\n",
        "    offsets = [self.h, self.j, self.l]\n",
        "\n",
        "    # Create the piecewise linear function using np.piecewise\n",
        "    fx = np.piecewise(x, [x < breakpoints[0],\n",
        "                        (x >= breakpoints[0]) & (x < breakpoints[1]),\n",
        "                        (x >= breakpoints[1]) & (x < breakpoints[2]),\n",
        "                        (x >= breakpoints[2]) & (x < breakpoints[3]),\n",
        "                        x >= breakpoints[3]],\n",
        "                    [lambda x:  slopes[0] * breakpoints[0] +  offsets[0],\n",
        "                    lambda x:  slopes[0] * x +  offsets[0],\n",
        "                    lambda x:  slopes[1] * x +  offsets[1],\n",
        "                    lambda x:  slopes[2] * x +  offsets[2],\n",
        "                    lambda x:  slopes[2] * breakpoints[3] +  offsets[2]])\n",
        "\n",
        "\n",
        "    return fx"
      ],
      "metadata": {
        "id": "1HoOlCsuWuR0"
      },
      "execution_count": 25,
      "outputs": []
    },
    {
      "cell_type": "code",
      "source": [
        "#from scipy import optimize\n",
        "#import matplotlib.pyplot as plt\n",
        "#import numpy as np\n",
        "%matplotlib inline\n",
        "\n",
        "piecewise_estimator = PiecewiseEstimator(id_site_global)\n",
        "\n",
        "x = np.linspace(0, 40, 200)\n",
        "y_open = piecewise_estimator.open_piecewise(x)\n",
        "y_closed = piecewise_estimator.closed_piecewise(x)\n",
        "\n",
        "\n",
        "# Plot f(x) and g(x)\n",
        "plt.scatter(x, y_open, label='open')\n",
        "plt.scatter(x, y_closed, label='closed')\n",
        "plt.xlabel('T°')\n",
        "plt.ylabel('kWh')\n",
        "plt.title('Plot of piecewise estimators')\n",
        "plt.legend()  # Display legend for the two functions\n",
        "plt.grid(True)\n",
        "\n",
        "# Show the plot\n",
        "plt.show()"
      ],
      "metadata": {
        "colab": {
          "base_uri": "https://localhost:8080/",
          "height": 527
        },
        "id": "t1fP7-3IfiFC",
        "outputId": "3284409e-f4f6-4b5b-d108-701cefea79d2"
      },
      "execution_count": 26,
      "outputs": [
        {
          "output_type": "stream",
          "name": "stderr",
          "text": [
            "<ipython-input-11-4d7c046999e1>:7: UserWarning: pandas only supports SQLAlchemy connectable (engine/connection) or database string URI or sqlite3 DBAPI2 connection. Other DBAPI2 objects are not tested. Please consider using SQLAlchemy.\n",
            "  df_model_params = pd.read_sql(sql_query,mydb)\n"
          ]
        },
        {
          "output_type": "display_data",
          "data": {
            "text/plain": [
              "<Figure size 640x480 with 1 Axes>"
            ],
            "image/png": "[encoded data removed]"
          },
          "metadata": {}
        }
      ]
    },
    {
      "cell_type": "markdown",
      "source": [
        "## Fit linear NN to temperatures, consumption and opening hours data"
      ],
      "metadata": {
        "id": "E3puCwO1WiHX"
      }
    },
    {
      "cell_type": "markdown",
      "source": [
        "#### Make DF with input and ground truths"
      ],
      "metadata": {
        "id": "MSosK8BR5Naw"
      }
    },
    {
      "cell_type": "code",
      "source": [
        "%matplotlib inline\n",
        "\n",
        "x = df_merged.loc[df_merged['is_open']==True, 'temperature'].values\n",
        "y = df_merged.loc[df_merged['is_open']==True, 'consumption'].values\n",
        "\n",
        "# Plot f(x) and g(x)\n",
        "plt.scatter(x, y)\n",
        "plt.xlabel('T°')\n",
        "plt.ylabel('kWh')\n",
        "plt.title('Plot of actual data when open')\n",
        "plt.legend()  # Display legend for the two functions\n",
        "plt.grid(True)\n",
        "\n",
        "# Show the plot\n",
        "plt.show()"
      ],
      "metadata": {
        "colab": {
          "base_uri": "https://localhost:8080/",
          "height": 489
        },
        "id": "L2BiFp17e83O",
        "outputId": "c9e55b46-9ac0-4481-b0fd-9e77eecd2503"
      },
      "execution_count": 27,
      "outputs": [
        {
          "output_type": "stream",
          "name": "stderr",
          "text": [
            "WARNING:matplotlib.legend:No artists with labels found to put in legend.  Note that artists whose label start with an underscore are ignored when legend() is called with no argument.\n"
          ]
        },
        {
          "output_type": "display_data",
          "data": {
            "text/plain": [
              "<Figure size 640x480 with 1 Axes>"
            ],
            "image/png": "[encoded data removed]"
          },
          "metadata": {}
        }
      ]
    },
    {
      "cell_type": "code",
      "source": [
        "%matplotlib inline\n",
        "\n",
        "x = df_merged.loc[df_merged['is_open']==False, 'temperature'].values\n",
        "y = df_merged.loc[df_merged['is_open']==False, 'consumption'].values\n",
        "\n",
        "# Plot f(x) and g(x)\n",
        "plt.scatter(x, y)\n",
        "plt.xlabel('T°')\n",
        "plt.ylabel('kWh')\n",
        "plt.title('Plot of actual data when closed')\n",
        "#plt.legend()  # Display legend for the two functions\n",
        "plt.grid(True)\n",
        "\n",
        "# Show the plot\n",
        "plt.show()"
      ],
      "metadata": {
        "colab": {
          "base_uri": "https://localhost:8080/",
          "height": 472
        },
        "id": "9WtBQjf51Beg",
        "outputId": "2856a458-f633-4dfe-9fac-638a12afc4df"
      },
      "execution_count": 28,
      "outputs": [
        {
          "output_type": "display_data",
          "data": {
            "text/plain": [
              "<Figure size 640x480 with 1 Axes>"
            ],
            "image/png": "[encoded data removed]"
          },
          "metadata": {}
        }
      ]
    },
    {
      "cell_type": "markdown",
      "source": [
        "#### Fit model to data and evaluate"
      ],
      "metadata": {
        "id": "PUi_4M635SVD"
      }
    },
    {
      "cell_type": "markdown",
      "source": [
        "##### When store is open"
      ],
      "metadata": {
        "id": "zzxv3C6jjxN5"
      }
    },
    {
      "cell_type": "code",
      "source": [
        "train_df, test_df = train_test_split(df_merged.loc[df_merged['is_open']==True, ['temperature', 'consumption']], test_size=0.3, random_state=42)"
      ],
      "metadata": {
        "id": "tfKvHiCtdGab"
      },
      "execution_count": 29,
      "outputs": []
    },
    {
      "cell_type": "code",
      "source": [
        "%matplotlib inline\n",
        "\n",
        "x = train_df['temperature'].values\n",
        "y = train_df['consumption'].values\n",
        "\n",
        "# Plot f(x) and g(x)\n",
        "plt.scatter(x, y)\n",
        "plt.xlabel('T°')\n",
        "plt.ylabel('kWh')\n",
        "plt.title('Plot of actual data when open')\n",
        "#plt.legend()  # Display legend for the two functions\n",
        "plt.grid(True)\n",
        "\n",
        "# Show the plot\n",
        "plt.show()"
      ],
      "metadata": {
        "colab": {
          "base_uri": "https://localhost:8080/",
          "height": 472
        },
        "id": "WtG7nMuMm1rs",
        "outputId": "b632c64c-459a-452b-fa24-1244edf38571"
      },
      "execution_count": 30,
      "outputs": [
        {
          "output_type": "display_data",
          "data": {
            "text/plain": [
              "<Figure size 640x480 with 1 Axes>"
            ],
            "image/png": "[encoded data removed]"
          },
          "metadata": {}
        }
      ]
    },
    {
      "cell_type": "code",
      "source": [
        "model_open = PrevisionalModelReluSimple()"
      ],
      "metadata": {
        "id": "u_4warUsxrlj"
      },
      "execution_count": 31,
      "outputs": []
    },
    {
      "cell_type": "code",
      "source": [
        "# Choose hyperparameters\n",
        "learning_rate = 0.01\n",
        "momentum = 0.9\n",
        "weight_decay = 1e-5  # Adjust this based on your problem and model complexity\n",
        "\n",
        "# Define the optimizer with SGD and the selected hyperparameters\n",
        "optimizer = optim.SGD(model_open.parameters(), lr=learning_rate, momentum=momentum, weight_decay=weight_decay)\n",
        "\n",
        "# Define loss function\n",
        "criterion = torch.nn.L1Loss()  # Mean Squared Error loss for regression\n",
        "#optimizer = optim.SGD(model_open.parameters(), lr=0.01)\n",
        "\n",
        "# Training loop\n",
        "epochs = 20000\n",
        "for epoch in tqdm(range(epochs)):\n",
        "    model_open.train()  # Set the model to training mode\n",
        "    optimizer.zero_grad()\n",
        "    inputs = torch.tensor(train_df['temperature'].values, dtype=torch.float32).view(-1, 1)\n",
        "    targets = torch.tensor(train_df['consumption'].values, dtype=torch.float32).view(-1, 1)\n",
        "    outputs = model_open(inputs)\n",
        "    loss = criterion(outputs, targets)\n",
        "    loss.backward()\n",
        "    optimizer.step()\n",
        "\n",
        "    # Print the loss every 1000 epochs\n",
        "    if (epoch + 1) % 1000 == 0:\n",
        "        print(f\"Epoch [{epoch + 1}/{epochs}], Loss: {loss.item()}\")\n",
        "\n",
        "# Testing\n",
        "model_open.eval()  # Set the model to evaluation mode\n",
        "test_inputs = torch.tensor(test_df['temperature'].values, dtype=torch.float32).view(-1, 1)\n",
        "test_targets = torch.tensor(test_df['consumption'].values, dtype=torch.float32).view(-1, 1)\n",
        "test_outputs = model_open(test_inputs)\n",
        "\n",
        "# Calculate MAE for testing\n",
        "mae_loss = torch.nn.L1Loss()\n",
        "mae = mae_loss(test_targets, test_outputs.detach())\n",
        "print(f\"MAE on Test Set: {mae}\")"
      ],
      "metadata": {
        "colab": {
          "base_uri": "https://localhost:8080/"
        },
        "id": "5MglAphbfRsT",
        "outputId": "cd451a87-3cd7-4c61-a828-694873dceab6"
      },
      "execution_count": 32,
      "outputs": [
        {
          "output_type": "stream",
          "name": "stderr",
          "text": [
            "  6%|▌         | 1172/20000 [00:00<00:11, 1579.99it/s]"
          ]
        },
        {
          "output_type": "stream",
          "name": "stdout",
          "text": [
            "Epoch [1000/20000], Loss: 2.5458550453186035\n"
          ]
        },
        {
          "output_type": "stream",
          "name": "stderr",
          "text": [
            " 12%|█▏        | 2315/20000 [00:01<00:10, 1612.03it/s]"
          ]
        },
        {
          "output_type": "stream",
          "name": "stdout",
          "text": [
            "Epoch [2000/20000], Loss: 2.517441749572754\n"
          ]
        },
        {
          "output_type": "stream",
          "name": "stderr",
          "text": [
            " 16%|█▋        | 3255/20000 [00:02<00:11, 1516.93it/s]"
          ]
        },
        {
          "output_type": "stream",
          "name": "stdout",
          "text": [
            "Epoch [3000/20000], Loss: 2.512709140777588\n"
          ]
        },
        {
          "output_type": "stream",
          "name": "stderr",
          "text": [
            " 21%|██        | 4169/20000 [00:02<00:10, 1511.02it/s]"
          ]
        },
        {
          "output_type": "stream",
          "name": "stdout",
          "text": [
            "Epoch [4000/20000], Loss: 2.5088913440704346\n"
          ]
        },
        {
          "output_type": "stream",
          "name": "stderr",
          "text": [
            " 26%|██▋       | 5287/20000 [00:03<00:09, 1596.12it/s]"
          ]
        },
        {
          "output_type": "stream",
          "name": "stdout",
          "text": [
            "Epoch [5000/20000], Loss: 2.506852626800537\n"
          ]
        },
        {
          "output_type": "stream",
          "name": "stderr",
          "text": [
            " 31%|███       | 6249/20000 [00:04<00:09, 1527.20it/s]"
          ]
        },
        {
          "output_type": "stream",
          "name": "stdout",
          "text": [
            "Epoch [6000/20000], Loss: 2.5059196949005127\n"
          ]
        },
        {
          "output_type": "stream",
          "name": "stderr",
          "text": [
            " 35%|███▌      | 7087/20000 [00:05<00:15, 811.59it/s] "
          ]
        },
        {
          "output_type": "stream",
          "name": "stdout",
          "text": [
            "Epoch [7000/20000], Loss: 2.505507469177246\n"
          ]
        },
        {
          "output_type": "stream",
          "name": "stderr",
          "text": [
            " 41%|████      | 8110/20000 [00:06<00:17, 661.95it/s]"
          ]
        },
        {
          "output_type": "stream",
          "name": "stdout",
          "text": [
            "Epoch [8000/20000], Loss: 2.505404472351074\n"
          ]
        },
        {
          "output_type": "stream",
          "name": "stderr",
          "text": [
            " 45%|████▌     | 9089/20000 [00:07<00:14, 767.14it/s]"
          ]
        },
        {
          "output_type": "stream",
          "name": "stdout",
          "text": [
            "Epoch [9000/20000], Loss: 2.505160331726074\n"
          ]
        },
        {
          "output_type": "stream",
          "name": "stderr",
          "text": [
            " 50%|█████     | 10079/20000 [00:09<00:12, 768.70it/s]"
          ]
        },
        {
          "output_type": "stream",
          "name": "stdout",
          "text": [
            "Epoch [10000/20000], Loss: 2.505051851272583\n"
          ]
        },
        {
          "output_type": "stream",
          "name": "stderr",
          "text": [
            " 55%|█████▌    | 11077/20000 [00:11<00:19, 457.13it/s]"
          ]
        },
        {
          "output_type": "stream",
          "name": "stdout",
          "text": [
            "Epoch [11000/20000], Loss: 2.5048465728759766\n"
          ]
        },
        {
          "output_type": "stream",
          "name": "stderr",
          "text": [
            " 61%|██████▏   | 12265/20000 [00:13<00:06, 1121.11it/s]"
          ]
        },
        {
          "output_type": "stream",
          "name": "stdout",
          "text": [
            "Epoch [12000/20000], Loss: 2.504687786102295\n"
          ]
        },
        {
          "output_type": "stream",
          "name": "stderr",
          "text": [
            " 66%|██████▌   | 13193/20000 [00:13<00:04, 1494.02it/s]"
          ]
        },
        {
          "output_type": "stream",
          "name": "stdout",
          "text": [
            "Epoch [13000/20000], Loss: 2.5048112869262695\n"
          ]
        },
        {
          "output_type": "stream",
          "name": "stderr",
          "text": [
            " 72%|███████▏  | 14303/20000 [00:14<00:03, 1569.48it/s]"
          ]
        },
        {
          "output_type": "stream",
          "name": "stdout",
          "text": [
            "Epoch [14000/20000], Loss: 2.5046987533569336\n"
          ]
        },
        {
          "output_type": "stream",
          "name": "stderr",
          "text": [
            " 76%|███████▋  | 15259/20000 [00:15<00:03, 1513.73it/s]"
          ]
        },
        {
          "output_type": "stream",
          "name": "stdout",
          "text": [
            "Epoch [15000/20000], Loss: 2.5045793056488037\n"
          ]
        },
        {
          "output_type": "stream",
          "name": "stderr",
          "text": [
            " 81%|████████  | 16194/20000 [00:15<00:02, 1555.85it/s]"
          ]
        },
        {
          "output_type": "stream",
          "name": "stdout",
          "text": [
            "Epoch [16000/20000], Loss: 2.50457501411438\n"
          ]
        },
        {
          "output_type": "stream",
          "name": "stderr",
          "text": [
            " 86%|████████▋ | 17263/20000 [00:16<00:01, 1495.02it/s]"
          ]
        },
        {
          "output_type": "stream",
          "name": "stdout",
          "text": [
            "Epoch [17000/20000], Loss: 2.504626512527466\n"
          ]
        },
        {
          "output_type": "stream",
          "name": "stderr",
          "text": [
            " 91%|█████████ | 18180/20000 [00:17<00:01, 1491.39it/s]"
          ]
        },
        {
          "output_type": "stream",
          "name": "stdout",
          "text": [
            "Epoch [18000/20000], Loss: 2.5047190189361572\n"
          ]
        },
        {
          "output_type": "stream",
          "name": "stderr",
          "text": [
            " 97%|█████████▋| 19308/20000 [00:18<00:00, 1595.47it/s]"
          ]
        },
        {
          "output_type": "stream",
          "name": "stdout",
          "text": [
            "Epoch [19000/20000], Loss: 2.5045583248138428\n"
          ]
        },
        {
          "output_type": "stream",
          "name": "stderr",
          "text": [
            "100%|██████████| 20000/20000 [00:18<00:00, 1083.44it/s]"
          ]
        },
        {
          "output_type": "stream",
          "name": "stdout",
          "text": [
            "Epoch [20000/20000], Loss: 2.5046088695526123\n",
            "MAE on Test Set: 2.5508952140808105\n"
          ]
        },
        {
          "output_type": "stream",
          "name": "stderr",
          "text": [
            "\n"
          ]
        }
      ]
    },
    {
      "cell_type": "code",
      "source": [
        "#torch.save(model_open.state_dict(), '/content/drive/MyDrive/Colab/Models/model_open_1633_2019_simple_3.pth')"
      ],
      "metadata": {
        "id": "hSVP0ZkFelkb"
      },
      "execution_count": 33,
      "outputs": []
    },
    {
      "cell_type": "markdown",
      "source": [
        "##### When store is closes"
      ],
      "metadata": {
        "id": "brtOcPUsj15R"
      }
    },
    {
      "cell_type": "code",
      "source": [
        "train_df, test_df = train_test_split(df_merged.loc[df_merged['is_open']==False, ['temperature', 'consumption']], test_size=0.3, random_state=42)\n",
        "model_closed = PrevisionalModelReluSimple()"
      ],
      "metadata": {
        "id": "hbeFQ30cTjw3"
      },
      "execution_count": 34,
      "outputs": []
    },
    {
      "cell_type": "code",
      "source": [
        "%matplotlib inline\n",
        "\n",
        "x = train_df['temperature'].values\n",
        "y = train_df['consumption'].values\n",
        "\n",
        "# Plot f(x) and g(x)\n",
        "plt.scatter(x, y)\n",
        "plt.xlabel('T°')\n",
        "plt.ylabel('kWh')\n",
        "plt.title('Plot of actual data when closed')\n",
        "#plt.legend()  # Display legend for the two functions\n",
        "plt.grid(True)\n",
        "\n",
        "# Show the plot\n",
        "plt.show()"
      ],
      "metadata": {
        "colab": {
          "base_uri": "https://localhost:8080/",
          "height": 472
        },
        "id": "447S1jYKUfFR",
        "outputId": "26bc30b5-f82c-44ca-9236-0aee57f2b473"
      },
      "execution_count": 35,
      "outputs": [
        {
          "output_type": "display_data",
          "data": {
            "text/plain": [
              "<Figure size 640x480 with 1 Axes>"
            ],
            "image/png": "[encoded data removed]"
          },
          "metadata": {}
        }
      ]
    },
    {
      "cell_type": "code",
      "source": [
        "# Define loss function and optimizer\n",
        "criterion = torch.nn.L1Loss()  # Mean Squared Error loss for regression\n",
        "optimizer = optim.SGD(model_closed.parameters(), lr=learning_rate, momentum=momentum, weight_decay=weight_decay)\n",
        "\n",
        "# Training loop\n",
        "epochs = 20000\n",
        "for epoch in tqdm(range(epochs)):\n",
        "    model_closed.train()  # Set the model to training mode\n",
        "    optimizer.zero_grad()\n",
        "    inputs = torch.tensor(train_df['temperature'].values, dtype=torch.float32).view(-1, 1)\n",
        "    targets = torch.tensor(train_df['consumption'].values, dtype=torch.float32).view(-1, 1)\n",
        "    outputs = model_closed(inputs)\n",
        "    loss = criterion(outputs, targets)\n",
        "    loss.backward()\n",
        "    optimizer.step()\n",
        "\n",
        "    # Print the loss every 1000 epochs\n",
        "    if (epoch + 1) % 1000 == 0:\n",
        "        print(f\"Epoch [{epoch + 1}/{epochs}], Loss: {loss.item()}\")\n",
        "\n",
        "# Testing\n",
        "model_closed.eval()  # Set the model to evaluation mode\n",
        "test_inputs = torch.tensor(test_df['temperature'].values, dtype=torch.float32).view(-1, 1)\n",
        "test_targets = torch.tensor(test_df['consumption'].values, dtype=torch.float32).view(-1, 1)\n",
        "test_outputs = model_closed(test_inputs)\n",
        "\n",
        "# Calculate MAE for testing\n",
        "mae_loss = torch.nn.L1Loss()\n",
        "mae_closed_nn = mae_loss(test_targets, test_outputs.detach())\n",
        "print(f\"MAE on Test Set: {mae_closed_nn}\")"
      ],
      "metadata": {
        "colab": {
          "base_uri": "https://localhost:8080/"
        },
        "id": "4qAAuI-hck4u",
        "outputId": "2bcb7eca-8b3b-4cda-9bc1-fb35c63d1e6d"
      },
      "execution_count": 36,
      "outputs": [
        {
          "output_type": "stream",
          "name": "stderr",
          "text": [
            "  6%|▌         | 1180/20000 [00:00<00:12, 1545.88it/s]"
          ]
        },
        {
          "output_type": "stream",
          "name": "stdout",
          "text": [
            "Epoch [1000/20000], Loss: 0.8684836030006409\n"
          ]
        },
        {
          "output_type": "stream",
          "name": "stderr",
          "text": [
            " 11%|█         | 2164/20000 [00:01<00:11, 1613.39it/s]"
          ]
        },
        {
          "output_type": "stream",
          "name": "stdout",
          "text": [
            "Epoch [2000/20000], Loss: 0.8470115661621094\n"
          ]
        },
        {
          "output_type": "stream",
          "name": "stderr",
          "text": [
            " 17%|█▋        | 3344/20000 [00:02<00:09, 1702.97it/s]"
          ]
        },
        {
          "output_type": "stream",
          "name": "stdout",
          "text": [
            "Epoch [3000/20000], Loss: 0.8204864263534546\n"
          ]
        },
        {
          "output_type": "stream",
          "name": "stderr",
          "text": [
            " 21%|██        | 4204/20000 [00:02<00:09, 1704.96it/s]"
          ]
        },
        {
          "output_type": "stream",
          "name": "stdout",
          "text": [
            "Epoch [4000/20000], Loss: 0.7972184419631958\n"
          ]
        },
        {
          "output_type": "stream",
          "name": "stderr",
          "text": [
            " 26%|██▌       | 5238/20000 [00:03<00:08, 1711.28it/s]"
          ]
        },
        {
          "output_type": "stream",
          "name": "stdout",
          "text": [
            "Epoch [5000/20000], Loss: 0.781304121017456\n"
          ]
        },
        {
          "output_type": "stream",
          "name": "stderr",
          "text": [
            " 31%|███       | 6140/20000 [00:03<00:10, 1370.36it/s]"
          ]
        },
        {
          "output_type": "stream",
          "name": "stdout",
          "text": [
            "Epoch [6000/20000], Loss: 0.7578387260437012\n"
          ]
        },
        {
          "output_type": "stream",
          "name": "stderr",
          "text": [
            " 36%|███▋      | 7261/20000 [00:05<00:10, 1166.31it/s]"
          ]
        },
        {
          "output_type": "stream",
          "name": "stdout",
          "text": [
            "Epoch [7000/20000], Loss: 0.7577915787696838\n"
          ]
        },
        {
          "output_type": "stream",
          "name": "stderr",
          "text": [
            " 41%|████      | 8194/20000 [00:05<00:07, 1489.34it/s]"
          ]
        },
        {
          "output_type": "stream",
          "name": "stdout",
          "text": [
            "Epoch [8000/20000], Loss: 0.7577832341194153\n"
          ]
        },
        {
          "output_type": "stream",
          "name": "stderr",
          "text": [
            " 47%|████▋     | 9303/20000 [00:06<00:06, 1595.63it/s]"
          ]
        },
        {
          "output_type": "stream",
          "name": "stdout",
          "text": [
            "Epoch [9000/20000], Loss: 0.7577763199806213\n"
          ]
        },
        {
          "output_type": "stream",
          "name": "stderr",
          "text": [
            " 51%|█████▏    | 10285/20000 [00:07<00:06, 1588.69it/s]"
          ]
        },
        {
          "output_type": "stream",
          "name": "stdout",
          "text": [
            "Epoch [10000/20000], Loss: 0.7577647566795349\n"
          ]
        },
        {
          "output_type": "stream",
          "name": "stderr",
          "text": [
            " 56%|█████▋    | 11270/20000 [00:07<00:05, 1644.48it/s]"
          ]
        },
        {
          "output_type": "stream",
          "name": "stdout",
          "text": [
            "Epoch [11000/20000], Loss: 0.7577471137046814\n"
          ]
        },
        {
          "output_type": "stream",
          "name": "stderr",
          "text": [
            " 61%|██████▏   | 12268/20000 [00:08<00:04, 1635.18it/s]"
          ]
        },
        {
          "output_type": "stream",
          "name": "stdout",
          "text": [
            "Epoch [12000/20000], Loss: 0.757683515548706\n"
          ]
        },
        {
          "output_type": "stream",
          "name": "stderr",
          "text": [
            " 66%|██████▋   | 13289/20000 [00:09<00:04, 1624.23it/s]"
          ]
        },
        {
          "output_type": "stream",
          "name": "stdout",
          "text": [
            "Epoch [13000/20000], Loss: 0.7575578689575195\n"
          ]
        },
        {
          "output_type": "stream",
          "name": "stderr",
          "text": [
            " 72%|███████▏  | 14324/20000 [00:09<00:03, 1665.56it/s]"
          ]
        },
        {
          "output_type": "stream",
          "name": "stdout",
          "text": [
            "Epoch [14000/20000], Loss: 0.7571892142295837\n"
          ]
        },
        {
          "output_type": "stream",
          "name": "stderr",
          "text": [
            " 76%|███████▌  | 15166/20000 [00:10<00:02, 1628.38it/s]"
          ]
        },
        {
          "output_type": "stream",
          "name": "stdout",
          "text": [
            "Epoch [15000/20000], Loss: 0.756841778755188\n"
          ]
        },
        {
          "output_type": "stream",
          "name": "stderr",
          "text": [
            " 82%|████████▏ | 16316/20000 [00:10<00:02, 1610.58it/s]"
          ]
        },
        {
          "output_type": "stream",
          "name": "stdout",
          "text": [
            "Epoch [16000/20000], Loss: 0.7565158009529114\n"
          ]
        },
        {
          "output_type": "stream",
          "name": "stderr",
          "text": [
            " 87%|████████▋ | 17324/20000 [00:11<00:01, 1631.18it/s]"
          ]
        },
        {
          "output_type": "stream",
          "name": "stdout",
          "text": [
            "Epoch [17000/20000], Loss: 0.7562975287437439\n"
          ]
        },
        {
          "output_type": "stream",
          "name": "stderr",
          "text": [
            " 91%|█████████ | 18179/20000 [00:12<00:01, 1641.91it/s]"
          ]
        },
        {
          "output_type": "stream",
          "name": "stdout",
          "text": [
            "Epoch [18000/20000], Loss: 0.7562023997306824\n"
          ]
        },
        {
          "output_type": "stream",
          "name": "stderr",
          "text": [
            " 97%|█████████▋| 19337/20000 [00:12<00:00, 1622.05it/s]"
          ]
        },
        {
          "output_type": "stream",
          "name": "stdout",
          "text": [
            "Epoch [19000/20000], Loss: 0.7561290264129639\n"
          ]
        },
        {
          "output_type": "stream",
          "name": "stderr",
          "text": [
            "100%|██████████| 20000/20000 [00:13<00:00, 1518.61it/s]"
          ]
        },
        {
          "output_type": "stream",
          "name": "stdout",
          "text": [
            "Epoch [20000/20000], Loss: 0.7559680342674255\n",
            "MAE on Test Set: 0.761585533618927\n"
          ]
        },
        {
          "output_type": "stream",
          "name": "stderr",
          "text": [
            "\n"
          ]
        }
      ]
    },
    {
      "cell_type": "markdown",
      "source": [
        "## Comparing the machine learning model with the manual production models"
      ],
      "metadata": {
        "id": "VnDWS0ZGiCnV"
      }
    },
    {
      "cell_type": "code",
      "source": [
        "from scipy import optimize\n",
        "import matplotlib.pyplot as plt\n",
        "import numpy as np\n",
        "%matplotlib inline\n",
        "\n",
        "x = np.linspace(0, 40, 400)\n",
        "y_open_manual = piecewise_estimator.open_piecewise(x)\n",
        "y_closed_manual = piecewise_estimator.closed_piecewise(x)\n",
        "\n",
        "input_values = torch.arange(0, 40, 0.1, dtype=torch.float32).view(-1, 1)\n",
        "\n",
        "# Pass the input values through the model to obtain predictions\n",
        "with torch.no_grad():\n",
        "    y_open_ml = model_open(input_values)\n",
        "    y_closed_ml = model_closed(input_values)\n",
        "\n",
        "# Convert predictions to a NumPy array for plotting\n",
        "y_open_ml = y_open_ml.numpy()\n",
        "y_closed_ml = y_closed_ml.numpy()\n",
        "\n",
        "\n",
        "# Plot f(x) and g(x)\n",
        "plt.scatter(x, y_open_manual, label='open_manual')\n",
        "plt.scatter(x, y_open_ml, label='open_ml')\n",
        "plt.scatter(x, y_closed_manual, label='closed_manual')\n",
        "plt.scatter(x, y_closed_ml, label='closed_ml')\n",
        "plt.xlabel('T°')\n",
        "plt.ylabel('kWh')\n",
        "plt.title('Plot of estimators')\n",
        "plt.legend()  # Display legend for the two functions\n",
        "plt.grid(True)\n",
        "\n",
        "# Show the plot\n",
        "plt.show()"
      ],
      "metadata": {
        "colab": {
          "base_uri": "https://localhost:8080/",
          "height": 472
        },
        "id": "SqN6fmogiJAa",
        "outputId": "3c14163c-7141-4411-f056-2f1c6f93a6b1"
      },
      "execution_count": 41,
      "outputs": [
        {
          "output_type": "display_data",
          "data": {
            "text/plain": [
              "<Figure size 640x480 with 1 Axes>"
            ],
            "image/png": "[encoded data removed]"
          },
          "metadata": {}
        }
      ]
    },
    {
      "cell_type": "code",
      "source": [
        "# Step 0 make predictions\n",
        "test_inputs_closed =df_merged.loc[df_merged['is_open']==False, 'temperature'].values\n",
        "test_targets_closed = df_merged.loc[df_merged['is_open']==False, 'consumption'].values\n",
        "test_outputs_closed = piecewise_estimator.closed_piecewise(test_inputs_closed)\n",
        "\n",
        "test_inputs_open =df_merged.loc[df_merged['is_open']==True, 'temperature'].values\n",
        "test_targets_open = df_merged.loc[df_merged['is_open']==True, 'consumption'].values\n",
        "test_outputs_open = piecewise_estimator.open_piecewise(test_inputs_open)\n",
        "\n",
        "\n",
        "# Step 1: Calculate absolute errors\n",
        "absolute_errors_closed = np.abs(test_targets_closed - test_outputs_closed)\n",
        "summed_errors_closed = np.sum(test_targets_closed - test_outputs_closed)\n",
        "absolute_errors_open = np.abs(test_targets_open - test_outputs_open)\n",
        "summed_errors_open = np.sum(test_targets_open - test_outputs_open)\n",
        "\n",
        "# Step 2: Compute the mean of absolute errors (MAE)\n",
        "mae_closed = np.mean(absolute_errors_closed)\n",
        "mae_open = np.mean(absolute_errors_open)\n",
        "\n",
        "# Print the MAE\n",
        "print(\"Mean Absolute Error for closed piecewise estimator:\", mae_closed)\n",
        "print(\"Mean Absolute Error for open piecewise estimator:\", mae_open)\n",
        "\n",
        "print(\"\\nTotal summed Error for closed piecewise estimator:\", summed_errors_closed)\n",
        "print(\"Total summed Error for open piecewise estimator:\", summed_errors_open)"
      ],
      "metadata": {
        "colab": {
          "base_uri": "https://localhost:8080/"
        },
        "id": "K9rtgLXXoGvl",
        "outputId": "d96ea95a-dbbf-4a2d-dcdb-2ba14993172e"
      },
      "execution_count": 42,
      "outputs": [
        {
          "output_type": "stream",
          "name": "stdout",
          "text": [
            "Mean Absolute Error for closed piecewise estimator: 1.0655761323183215\n",
            "Mean Absolute Error for open piecewise estimator: 2.8192716994599256\n",
            "\n",
            "Total summed Error for closed piecewise estimator: -519.2008568168\n",
            "Total summed Error for open piecewise estimator: 573.2457501392046\n"
          ]
        }
      ]
    },
    {
      "cell_type": "code",
      "source": [
        "#Make predictions with closed model\n",
        "model_closed.eval()  # Set the model to evaluation mode\n",
        "test_inputs = torch.tensor(df_merged.loc[df_merged['is_open']==False, 'temperature'].values, dtype=torch.float32).view(-1, 1)\n",
        "test_targets = torch.tensor(df_merged.loc[df_merged['is_open']==False, 'consumption'].values, dtype=torch.float32).view(-1, 1)\n",
        "with torch.no_grad():\n",
        "  test_outputs = model_closed(test_inputs)\n",
        "\n",
        "# Calculate MAE\n",
        "mae_loss = torch.nn.L1Loss()\n",
        "mae_closed_nn = mae_loss(test_targets, test_outputs.detach())\n",
        "print(\"Mean Absolute Error for closed nn estimator:\", mae_closed_nn)\n",
        "\n",
        "summed_errors_closed = np.sum(test_targets.numpy() - test_outputs.numpy())\n",
        "\n",
        "#Make predictions with open model\n",
        "model_open.eval()  # Set the model to evaluation mode\n",
        "test_inputs = torch.tensor(df_merged.loc[df_merged['is_open']==True, 'temperature'].values, dtype=torch.float32).view(-1, 1)\n",
        "test_targets = torch.tensor(df_merged.loc[df_merged['is_open']==True, 'consumption'].values, dtype=torch.float32).view(-1, 1)\n",
        "with torch.no_grad():\n",
        "  test_outputs = model_open(test_inputs)\n",
        "\n",
        "# Calculate MAE\n",
        "mae_loss = torch.nn.L1Loss()\n",
        "mae_open_nn = mae_loss(test_targets, test_outputs.detach())\n",
        "print(\"Mean Absolute Error for closed nn estimator:\", mae_open_nn)\n",
        "\n",
        "summed_errors_open = np.sum(test_targets.numpy() - test_outputs.numpy())\n",
        "\n",
        "print(\"\\nTotal summed Error for closed nn estimator:\", summed_errors_closed)\n",
        "print(\"Total summed Error for open nn estimator:\", summed_errors_open)"
      ],
      "metadata": {
        "colab": {
          "base_uri": "https://localhost:8080/"
        },
        "id": "opGa6O9fZge6",
        "outputId": "5b67953e-161b-4f8e-bc61-423d44e3dea8"
      },
      "execution_count": 43,
      "outputs": [
        {
          "output_type": "stream",
          "name": "stdout",
          "text": [
            "Mean Absolute Error for closed nn estimator: tensor(0.7577)\n",
            "Mean Absolute Error for closed nn estimator: tensor(2.5185)\n",
            "\n",
            "Total summed Error for closed nn estimator: 1833.5798\n",
            "Total summed Error for open nn estimator: 106.05945\n"
          ]
        }
      ]
    },
    {
      "cell_type": "markdown",
      "source": [
        "We notice that the nn model has a total summed loss that is larger than that of the parametric piecewise production models. This could be because we are training with MAE which does not allow positive and negative errors to offset each other"
      ],
      "metadata": {
        "id": "X2rs-YQNHs17"
      }
    },
    {
      "cell_type": "code",
      "source": [
        "#We could try to use this custom loss function which is simply total summed error (without abs.)\n",
        "\n",
        "class SumErrorsLoss(torch.nn.Module):\n",
        "    def __init__(self):\n",
        "        super(SumErrorsLoss, self).__init__()\n",
        "\n",
        "    def forward(self, predictions, targets):\n",
        "        # Calculate the error as the difference between predictions and targets\n",
        "        errors = predictions - targets\n",
        "\n",
        "        # Sum all the errors without using absolute values\n",
        "        loss = torch.sum(errors)\n",
        "\n",
        "        return loss\n",
        "\n",
        "# Example usage:\n",
        "# Instantiate the loss function\n",
        "custom_loss = SumErrorsLoss()\n",
        "\n",
        "# Example predictions and targets\n",
        "predictions = torch.tensor([2.0, -5.0, 3.0], requires_grad=True)\n",
        "targets = torch.tensor([1.0, 3.0, 5.0], requires_grad=False)\n",
        "\n",
        "# Calculate the loss\n",
        "loss = custom_loss(predictions, targets)\n",
        "\n",
        "# Backpropagation and optimization (if needed)\n",
        "loss.backward()\n",
        "# Now you can update your model's parameters if necessary\n"
      ],
      "metadata": {
        "id": "k1eVdoC0IP0A"
      },
      "execution_count": 44,
      "outputs": []
    },
    {
      "cell_type": "markdown",
      "source": [
        "## Ideas for improvement\n",
        "\n",
        "\n",
        "*   one hot encode month and day of the week data - currently this data is not used by the model at all\n",
        "*   Make hours data cyclical with sine cosine transform : https://towardsdatascience.com/building-rnn-lstm-and-gru-for-time-series-using-pytorch-a46e5b094e7b\n",
        "*   Filter out badly tagged is_open (ie. due to false or missing exceptional closures). In our test the model tended to predict too much consumption in total during is_open times. This could be due to the fact that a couple of times that were tagged is_open the store was actually closed. We would predict high consumption believing it is open while real consumption is low because it is closed\n",
        "*   Use time series forecasting tools like fb prophet\n",
        "\n"
      ],
      "metadata": {
        "id": "87E-yhWcLugP"
      }
    },
    {
      "cell_type": "code",
      "source": [
        "# Let's calculate error for each row"
      ],
      "metadata": {
        "id": "28MjB4SXLuC4"
      },
      "execution_count": null,
      "outputs": []
    },
    {
      "cell_type": "markdown",
      "source": [
        "### trying to make more complex fully connected nn\n"
      ],
      "metadata": {
        "id": "7bNKWUItcge9"
      }
    },
    {
      "cell_type": "code",
      "source": [
        "class PrevisionalModelComplex(torch.nn.Module):\n",
        "\n",
        "    def __init__(self):\n",
        "      super(PrevisionalModelLearn, self).__init__()\n",
        "\n",
        "      self.linear1 = torch.nn.Linear(1, 4)\n",
        "      self.relu1 = torch.nn.ReLU()\n",
        "      self.linear2 = torch.nn.Linear(4, 4)\n",
        "      self.relu2 = torch.nn.ReLU()\n",
        "      self.linear3 = torch.nn.Linear(4, 1)\n",
        "      self.relu3 = torch.nn.ReLU()\n",
        "\n",
        "    def forward(self, x):\n",
        "      x = self.linear1(x)\n",
        "      x = self.relu1(x)\n",
        "      x = self.linear2(x)\n",
        "      x = self.relu2(x)\n",
        "      x = self.linear3(x)\n",
        "      x = self.relu3(x)\n",
        "      return x"
      ],
      "metadata": {
        "id": "1ylceWhbvoeA"
      },
      "execution_count": null,
      "outputs": []
    },
    {
      "cell_type": "code",
      "source": [
        "model = PrevisionalModelLearn()\n",
        "\n",
        "# Define loss function and optimizer\n",
        "criterion = torch.nn.SmoothL1Loss()  # MAE loss for regression\n",
        "optimizer = optim.Adam(model.parameters(), lr=0.1)"
      ],
      "metadata": {
        "id": "WmwJowuTwP5y",
        "colab": {
          "base_uri": "https://localhost:8080/",
          "height": 245
        },
        "outputId": "b4ebc456-1ab2-4912-e301-32a3e84801f1"
      },
      "execution_count": null,
      "outputs": [
        {
          "output_type": "error",
          "ename": "NameError",
          "evalue": "ignored",
          "traceback": [
            "\u001b[0;31m---------------------------------------------------------------------------\u001b[0m",
            "\u001b[0;31mNameError\u001b[0m                                 Traceback (most recent call last)",
            "\u001b[0;32m<ipython-input-233-fbe802c4d4dd>\u001b[0m in \u001b[0;36m<cell line: 1>\u001b[0;34m()\u001b[0m\n\u001b[0;32m----> 1\u001b[0;31m \u001b[0mmodel\u001b[0m \u001b[0;34m=\u001b[0m \u001b[0mPrevisionalModelLearn\u001b[0m\u001b[0;34m(\u001b[0m\u001b[0;34m)\u001b[0m\u001b[0;34m\u001b[0m\u001b[0;34m\u001b[0m\u001b[0m\n\u001b[0m\u001b[1;32m      2\u001b[0m \u001b[0;34m\u001b[0m\u001b[0m\n\u001b[1;32m      3\u001b[0m \u001b[0;31m# Define loss function and optimizer\u001b[0m\u001b[0;34m\u001b[0m\u001b[0;34m\u001b[0m\u001b[0m\n\u001b[1;32m      4\u001b[0m \u001b[0mcriterion\u001b[0m \u001b[0;34m=\u001b[0m \u001b[0mtorch\u001b[0m\u001b[0;34m.\u001b[0m\u001b[0mnn\u001b[0m\u001b[0;34m.\u001b[0m\u001b[0mSmoothL1Loss\u001b[0m\u001b[0;34m(\u001b[0m\u001b[0;34m)\u001b[0m  \u001b[0;31m# MAE loss for regression\u001b[0m\u001b[0;34m\u001b[0m\u001b[0;34m\u001b[0m\u001b[0m\n\u001b[1;32m      5\u001b[0m \u001b[0moptimizer\u001b[0m \u001b[0;34m=\u001b[0m \u001b[0moptim\u001b[0m\u001b[0;34m.\u001b[0m\u001b[0mAdam\u001b[0m\u001b[0;34m(\u001b[0m\u001b[0mmodel\u001b[0m\u001b[0;34m.\u001b[0m\u001b[0mparameters\u001b[0m\u001b[0;34m(\u001b[0m\u001b[0;34m)\u001b[0m\u001b[0;34m,\u001b[0m \u001b[0mlr\u001b[0m\u001b[0;34m=\u001b[0m\u001b[0;36m0.1\u001b[0m\u001b[0;34m)\u001b[0m\u001b[0;34m\u001b[0m\u001b[0;34m\u001b[0m\u001b[0m\n",
            "\u001b[0;31mNameError\u001b[0m: name 'PrevisionalModelLearn' is not defined"
          ]
        }
      ]
    },
    {
      "cell_type": "code",
      "source": [
        "# Define loss function and optimizer\n",
        "criterion = torch.nn.L1Loss()  # Mean Squared Error loss for regression\n",
        "optimizer = optim.Adam(model.parameters(), lr=0.01)\n",
        "\n",
        "# Training loop\n",
        "epochs = 100000\n",
        "for epoch in tqdm(range(epochs)):\n",
        "    model.train()  # Set the model to training mode\n",
        "    optimizer.zero_grad()\n",
        "    inputs = torch.tensor(train_df_open['temperature'].values, dtype=torch.float32).view(-1, 1)\n",
        "    targets = torch.tensor(train_df_open['consumption'].values, dtype=torch.float32).view(-1, 1)\n",
        "    outputs = model(inputs)\n",
        "    loss = criterion(outputs, targets)\n",
        "    loss.backward()\n",
        "    optimizer.step()\n",
        "\n",
        "# Testing\n",
        "model.eval()  # Set the model to evaluation mode\n",
        "test_inputs = torch.tensor(test_df['temperature'].values, dtype=torch.float32).view(-1, 1)\n",
        "test_targets = torch.tensor(test_df['consumption'].values, dtype=torch.float32).view(-1, 1)\n",
        "test_outputs = model(test_inputs)\n",
        "\n",
        "# Calculate Mean Squared Error (MSE) for testing\n",
        "mae_loss = torch.nn.L1Loss()\n",
        "mae = mae_loss(test_targets, test_outputs.detach())\n",
        "print(f\"MAE on Test Set: {mae}\")"
      ],
      "metadata": {
        "id": "wfYUy9kozXlL"
      },
      "execution_count": null,
      "outputs": []
    },
    {
      "cell_type": "code",
      "source": [],
      "metadata": {
        "id": "OvvD9oxji8xj"
      },
      "execution_count": null,
      "outputs": []
    }
  ]
}